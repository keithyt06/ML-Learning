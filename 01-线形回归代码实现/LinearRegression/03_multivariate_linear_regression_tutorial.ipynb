{
 "cells": [
  {
   "cell_type": "markdown",
   "metadata": {},
   "source": [
    "# 多元线性回归实战教程 - 多因素幸福指数预测\n",
    "\n",
    "## 🎯 学习目标\n",
    "- 理解多元线性回归与单变量线性回归的区别\n",
    "- 学会处理多个特征变量的机器学习问题\n",
    "- 掌握3D可视化技术展示多维数据关系\n",
    "- 理解特征之间的相互作用对预测结果的影响\n",
    "- 学会评估多元回归模型的性能\n",
    "\n",
    "---\n",
    "\n",
    "## 📚 理论回顾\n",
    "\n",
    "### 🔄 从单变量到多变量\n",
    "在前面的教程中，我们学习了单变量线性回归：\n",
    "```\n",
    "幸福指数 = θ₀ + θ₁ × 经济指标\n",
    "```\n",
    "\n",
    "现在我们要学习多元线性回归，使用多个特征来预测：\n",
    "```\n",
    "幸福指数 = θ₀ + θ₁ × 经济指标 + θ₂ × 自由度 + ... + θₙ × 特征ₙ\n",
    "```\n",
    "\n",
    "### 🌟 多元回归的优势\n",
    "- **更全面**：考虑多个影响因素，更接近现实\n",
    "- **更准确**：通常能获得更好的预测精度\n",
    "- **更深入**：能分析各因素的相对重要性\n",
    "\n",
    "### ⚠️ 需要注意的问题\n",
    "- **多重共线性**：特征之间可能存在相关性\n",
    "- **维度诅咒**：特征过多可能导致过拟合\n",
    "- **解释复杂**：模型变得更难理解"
   ]
  },
  {
   "cell_type": "code",
   "execution_count": 3,
   "metadata": {},
   "outputs": [
    {
     "name": "stdout",
     "output_type": "stream",
     "text": [
      "Defaulting to user installation because normal site-packages is not writeable\n",
      "Collecting plotly\n",
      "  Downloading plotly-6.2.0-py3-none-any.whl (9.6 MB)\n",
      "\u001b[2K     \u001b[90m━━━━━━━━━━━━━━━━━━━━━━━━━━━━━━━━━━━━━━━━\u001b[0m \u001b[32m9.6/9.6 MB\u001b[0m \u001b[31m110.1 MB/s\u001b[0m eta \u001b[36m0:00:00\u001b[0m00:01\u001b[0m0:01\u001b[0m\n",
      "\u001b[?25hRequirement already satisfied: packaging in /home/ubuntu/.local/lib/python3.10/site-packages (from plotly) (25.0)\n",
      "Collecting narwhals>=1.15.1\n",
      "  Downloading narwhals-1.46.0-py3-none-any.whl (373 kB)\n",
      "\u001b[2K     \u001b[90m━━━━━━━━━━━━━━━━━━━━━━━━━━━━━━━━━━━━━━\u001b[0m \u001b[32m373.4/373.4 KB\u001b[0m \u001b[31m78.2 MB/s\u001b[0m eta \u001b[36m0:00:00\u001b[0m\n",
      "\u001b[?25hInstalling collected packages: narwhals, plotly\n",
      "Successfully installed narwhals-1.46.0 plotly-6.2.0\n"
     ]
    }
   ],
   "source": [
    "!pip install plotly"
   ]
  },
  {
   "cell_type": "code",
   "execution_count": 4,
   "metadata": {},
   "outputs": [
    {
     "data": {
      "text/html": [
       "        <script type=\"text/javascript\">\n",
       "        window.PlotlyConfig = {MathJaxConfig: 'local'};\n",
       "        if (window.MathJax && window.MathJax.Hub && window.MathJax.Hub.Config) {window.MathJax.Hub.Config({SVG: {font: \"STIX-Web\"}});}\n",
       "        </script>\n",
       "        <script type=\"module\">import \"https://cdn.plot.ly/plotly-3.0.1.min\"</script>\n",
       "        "
      ]
     },
     "metadata": {},
     "output_type": "display_data"
    },
    {
     "name": "stdout",
     "output_type": "stream",
     "text": [
      "✅ 库导入成功！\n",
      "📊 准备开始多元线性回归之旅！\n"
     ]
    }
   ],
   "source": [
    "# 导入必要的库\n",
    "import numpy as np\n",
    "import pandas as pd\n",
    "import matplotlib.pyplot as plt\n",
    "import plotly.graph_objs as go\n",
    "import plotly.offline as pyo\n",
    "import sys\n",
    "sys.path.append('..')\n",
    "from linear_regression import LinearRegression\n",
    "import warnings\n",
    "warnings.filterwarnings('ignore')\n",
    "\n",
    "# 设置plotly离线模式\n",
    "pyo.init_notebook_mode(connected=True)\n",
    "\n",
    "print(\"✅ 库导入成功！\")\n",
    "print(\"📊 准备开始多元线性回归之旅！\")"
   ]
  },
  {
   "cell_type": "markdown",
   "metadata": {},
   "source": [
    "## 📊 第一部分：数据加载与特征选择\n",
    "\n",
    "在这个教程中，我们将使用两个特征来预测幸福指数：\n",
    "- **经济指标** (Economy GDP per Capita)：反映经济发展水平\n",
    "- **自由度** (Freedom)：反映社会自由程度\n",
    "\n",
    "这样我们就能看到经济和自由度如何共同影响一个国家的幸福水平！"
   ]
  },
  {
   "cell_type": "code",
   "execution_count": 5,
   "metadata": {},
   "outputs": [
    {
     "name": "stdout",
     "output_type": "stream",
     "text": [
      "🌍 世界幸福指数数据集概览：\n",
      "数据形状: (155, 12)\n",
      "\n",
      "📋 数据列名:\n",
      " 1. Country\n",
      " 2. Happiness.Rank\n",
      " 3. Happiness.Score\n",
      " 4. Whisker.high\n",
      " 5. Whisker.low\n",
      " 6. Economy..GDP.per.Capita.\n",
      " 7. Family\n",
      " 8. Health..Life.Expectancy.\n",
      " 9. Freedom\n",
      "10. Generosity\n",
      "11. Trust..Government.Corruption.\n",
      "12. Dystopia.Residual\n",
      "\n",
      "🎯 选择的特征：\n",
      "  特征1: Economy..GDP.per.Capita. (经济指标)\n",
      "  特征2: Freedom (自由度)\n",
      "  目标变量: Happiness.Score (幸福指数)\n"
     ]
    }
   ],
   "source": [
    "# 加载数据\n",
    "data = pd.read_csv('../data/world-happiness-report-2017.csv')\n",
    "\n",
    "print(\"🌍 世界幸福指数数据集概览：\")\n",
    "print(f\"数据形状: {data.shape}\")\n",
    "print(f\"\\n📋 数据列名:\")\n",
    "for i, col in enumerate(data.columns, 1):\n",
    "    print(f\"{i:2d}. {col}\")\n",
    "\n",
    "# 定义我们要使用的特征\n",
    "input_param_name_1 = 'Economy..GDP.per.Capita.'  # 经济指标\n",
    "input_param_name_2 = 'Freedom'                    # 自由度\n",
    "output_param_name = 'Happiness.Score'             # 幸福指数\n",
    "\n",
    "print(f\"\\n🎯 选择的特征：\")\n",
    "print(f\"  特征1: {input_param_name_1} (经济指标)\")\n",
    "print(f\"  特征2: {input_param_name_2} (自由度)\")\n",
    "print(f\"  目标变量: {output_param_name} (幸福指数)\")"
   ]
  },
  {
   "cell_type": "code",
   "execution_count": 6,
   "metadata": {},
   "outputs": [
    {
     "name": "stdout",
     "output_type": "stream",
     "text": [
      "📈 选定特征的统计信息：\n",
      "       Economy..GDP.per.Capita.     Freedom  Happiness.Score\n",
      "count                155.000000  155.000000       155.000000\n",
      "mean                   0.984718    0.408786         5.354019\n",
      "std                    0.420793    0.149997         1.131230\n",
      "min                    0.000000    0.000000         2.693000\n",
      "25%                    0.663371    0.303677         4.505500\n",
      "50%                    1.064578    0.437454         5.279000\n",
      "75%                    1.318027    0.516561         6.101500\n",
      "max                    1.870766    0.658249         7.537000\n",
      "\n",
      "🔍 缺失值检查：\n",
      "  Economy..GDP.per.Capita.: 0 个缺失值\n",
      "  Freedom: 0 个缺失值\n",
      "  Happiness.Score: 0 个缺失值\n",
      "\n",
      "🔗 特征相关性矩阵：\n",
      "                          Economy..GDP.per.Capita.  Freedom  Happiness.Score\n",
      "Economy..GDP.per.Capita.                    1.0000   0.3699           0.8125\n",
      "Freedom                                     0.3699   1.0000           0.5701\n",
      "Happiness.Score                             0.8125   0.5701           1.0000\n"
     ]
    }
   ],
   "source": [
    "# 查看选定特征的统计信息\n",
    "selected_features = [input_param_name_1, input_param_name_2, output_param_name]\n",
    "print(\"📈 选定特征的统计信息：\")\n",
    "print(data[selected_features].describe())\n",
    "\n",
    "# 检查缺失值\n",
    "print(\"\\n🔍 缺失值检查：\")\n",
    "missing_values = data[selected_features].isnull().sum()\n",
    "for feature, missing in missing_values.items():\n",
    "    print(f\"  {feature}: {missing} 个缺失值\")\n",
    "\n",
    "# 计算特征之间的相关性\n",
    "print(\"\\n🔗 特征相关性矩阵：\")\n",
    "correlation_matrix = data[selected_features].corr()\n",
    "print(correlation_matrix.round(4))"
   ]
  },
  {
   "cell_type": "markdown",
   "metadata": {},
   "source": [
    "## 🎲 第二部分：数据预处理与分割"
   ]
  },
  {
   "cell_type": "code",
   "execution_count": 7,
   "metadata": {},
   "outputs": [
    {
     "name": "stdout",
     "output_type": "stream",
     "text": [
      "📊 数据分割结果：\n",
      "训练集大小: 124 个样本\n",
      "测试集大小: 31 个样本\n",
      "\n",
      "📏 数据维度：\n",
      "x_train形状: (124, 2) (样本数, 特征数)\n",
      "y_train形状: (124, 1)\n",
      "x_test形状: (31, 2)\n",
      "y_test形状: (31, 1)\n",
      "\n",
      "💡 重要观察：\n",
      "  现在每个样本有 2 个特征（之前只有1个）\n",
      "  这意味着我们的模型将学习一个平面而不是直线！\n"
     ]
    }
   ],
   "source": [
    "# 数据分割：80%训练，20%测试\n",
    "train_data = data.sample(frac=0.8, random_state=42)\n",
    "test_data = data.drop(train_data.index)\n",
    "\n",
    "print(f\"📊 数据分割结果：\")\n",
    "print(f\"训练集大小: {len(train_data)} 个样本\")\n",
    "print(f\"测试集大小: {len(test_data)} 个样本\")\n",
    "\n",
    "# 提取特征和目标变量\n",
    "# 注意：这次我们使用两个特征！\n",
    "x_train = train_data[[input_param_name_1, input_param_name_2]].values\n",
    "y_train = train_data[[output_param_name]].values\n",
    "\n",
    "x_test = test_data[[input_param_name_1, input_param_name_2]].values\n",
    "y_test = test_data[[output_param_name]].values\n",
    "\n",
    "print(f\"\\n📏 数据维度：\")\n",
    "print(f\"x_train形状: {x_train.shape} (样本数, 特征数)\")\n",
    "print(f\"y_train形状: {y_train.shape}\")\n",
    "print(f\"x_test形状: {x_test.shape}\")\n",
    "print(f\"y_test形状: {y_test.shape}\")\n",
    "\n",
    "print(f\"\\n💡 重要观察：\")\n",
    "print(f\"  现在每个样本有 {x_train.shape[1]} 个特征（之前只有1个）\")\n",
    "print(f\"  这意味着我们的模型将学习一个平面而不是直线！\")"
   ]
  },
  {
   "cell_type": "markdown",
   "metadata": {},
   "source": [
    "## 🎨 第三部分：3D数据可视化\n",
    "\n",
    "由于我们现在有两个输入特征和一个输出，我们可以用3D图来可视化数据！\n",
    "- X轴：经济指标\n",
    "- Y轴：自由度\n",
    "- Z轴：幸福指数"
   ]
  },
  {
   "cell_type": "code",
   "execution_count": 8,
   "metadata": {},
   "outputs": [
    {
     "data": {
      "application/vnd.plotly.v1+json": {
       "config": {
        "linkText": "Export to plot.ly",
        "plotlyServerURL": "https://plot.ly",
        "showLink": false
       },
       "data": [
        {
         "marker": {
          "color": "blue",
          "line": {
           "color": "darkblue",
           "width": 1
          },
          "opacity": 0.8,
          "size": 8
         },
         "mode": "markers",
         "name": "训练数据",
         "type": "scatter3d",
         "x": {
          "bdata": "////3w0O8j/8//8/55bbPwIAACDAC/I/+////2698z8DAADgAbbVPw0AAODyjPU//P//H8g76T8OAADghXm+PwIAAKCTdLc/BgAAwCEs8z8DAACA9JfnP/7//780rOA/+v//f3RM8T8AAACAWJ7tPwcAAMCIzvc/DwAA4GcL9D/1////D+X2PwMAAODaYOc//v//f94r8z/3//+f3g3YP/f//7/uEPc/+f//fybL9z8CAADgKcD3P+z//99wc/I/AAAAgFjX7T////8f/aDsP////z90yuA/AAAAwCmr9D8HAACgvaH0PwMAACAndfI/CQAAwL153j8DAADAVFXsP/z//38pwOQ/DQAAACXw8T8CAABgG8biP+7//19SIvU/8v//f4cI9T/4////En71PwIAAIAhatY/DgAAIJeP8z8MAAAgonvzP/3//x9vffg//f//P2tr7j8AAABAlqT1P/7//3/oUuc/7v//fx1F8T/5//9fW8HxP/////8Y9PE/+///f0KB8j/5//+fWCjwPxQAAOAfe/M//v//P6FC5z8IAACAT5fXPw0AAIDRqPQ/BAAA4N4Y9z8QAABgIvD2PwgAACD4ucQ/9///n16S0z/w//8//KDxPxMAAGCla/c/AgAAAAnj6T8FAAAAkQH2PwEAAEC9ftc/////f4Vs2T////+/wh3wPwIAAIAI3fk/AQAAYKXc7j/6//8f7LH1PwEAAGD0HO0/AAAAIDwU4z8DAACgcOfrPxEAAGCJ0Pc//v//H1aV8j8RAADAkRP7PwwAAGD49vI/AQAAoM/g7z/z///fzzT1P/3//z9w3ug/AAAAwF+13j8AAABgiJnXP/n//59nCNw/9P//XzFS9j8AAACgcu/hPw8AAGCUdfU//v//n1+27z8TAABgfib2Pw4AAIBpTc8/AgAAAAWUtz8AAABgSJDwPwgAAGA1lNc/AwAAAIgU6T8TAADABiz0PxUAAEAoEPg/AwAAQC1M4z/8//+//6zeP/z//z8iDu0/9f//30Qh8T8AAADAc9vvP/3//1+Pcu4/EQAAAKju/T/9//9/hirpPwEAAKDFffY/BwAAQFwD8D/0////qNP4PwYAAEC6/c0/AQAA4III8T/+//+/gxnsPwEAAGA+eOs/+f//f82x2T8BAADg5W/vP/3//58C6fc/////X3q9+D/8///fio30PwkAAGBcadg/EQAAACgK+T8EAABAAN/7P/T//7+SIPo/BAAAwOwb8T/5//+/beHNP+z//z/Sqvc/BAAA4KhB4z8KAADAC+DwP/z//z+ssPc//f//P7DR7D8=",
          "dtype": "f8"
         },
         "y": {
          "bdata": "EAAAgC22wz/4//9f+ULbPwAAACABkeI/AQAA4NGZ4T8FAADAeiraPwEAAEAzKN4/AgAAYBZG4j8GAADg7E3VPwUAAMBPq64//f//f1U/0z/4//9/sKTcP/z//z+YANk//v//XydC3j8IAADADFveP////98XAOI/9///Xw0f2D8HAACAHhjePwUAAMDwRtY/AAAAADH90z/9//+fUYfVP/3//78XQ+A//f///yMr4j8BAAAgXkDjPwQAACArato/BwAAoPNN3j8fAABgRnu/P/z//x8mLt4//P//f6Sm4D8BAADg14G4PwIAAKBie9k/+///P4+f0z8EAADAmAzgP/3//5/hmbg/9P//v2b1yD////8/ZZ3ePwEAAOAWqt4/AwAAoE77zT/9////LdfiPwYAAGBxwtQ//f//v5Je0D/9//+fjD/dP/j//5+2yNw/AAAAwF/N0z8FAACAqWvfP/r//5810M4/AwAA4NCu4T/9//8/cJDiPwQAAICRKuA/+///f9bn0j8BAACAdfXhPwQAAKBhiuI/BAAAoIgbzj/0//+fRhmfP/r//5+1vtk//P//30DG4z/8//+/RCLXP/3//x8vRtc//v//f5k3yD/9//+/ks7dP/7//z/NReE/+v//v3bX2z8JAACgt/vZP/3///+3duA/AgAAIPHSwj8BAADgIIrSP/3//79hVeQ/AgAAoFOm4D/+//+/JbrWPwAAAGBNrds//P//38od3T8EAAAgfwDhPwEAAOAHLeE/+v//v8WC0j8CAABAS5jhPwIAAOAzpt8/////P3lq2D8HAABgrO7SPwMAAODE37Q/+/////gt3D/+////dp7iPxAAAKCfx8Q/BgAAQLBp0D8FAADgFPrcP////3+KUuI//P//f2nH2j8JAADAeCnaPwUAAABCT9Y/DQAAQPszzj8GAADg2MzcP/7///+KZdQ/AwAAIOdG2T/6////ZdjUPwEAAEB4u+I/+///3zen3D/4///f4C/YP/z//18yheE//v//XyeP3j8DAABgaV/cPwUAAMCOqNA/////fwpV4z/8//9/XxDlP/z//59lpuM/AAAAoPch3T////+/B2zfP/r///9Hxd4/AAAAwKTb1D/7//8fRB/aPwAAAAAAAAAA6P//v5Quuz8MAAAg4inKPwEAAAATneM/AQAAwAYv4D/7//8/QP/bPwAAAKAoXdw/AwAAQJ7X4z/+//9fkxfjP/7//7/+w98/DgAAwDC3yj/9////7eHdP/7//38jjuM//v//X51E5D8BAACA+qveP/z//1+3EeQ/DwAAYABiyT8=",
          "dtype": "f8"
         },
         "z": {
          "bdata": "AAAAAAAAFUD4//8/iUENQPz///8sshlAAQAAINnOGUD9//8/CtcRQP///59wPRdA+///n8ZLFEAKAACAlUMMQP///59wPQdAAAAAAAAAFkABAABAtEgYQAcAAMDIdg5AAQAAQI0XFUD9//+/dj4VQAQAAADTzRtABQAA4KWbGkD9//+fm8QZQPz//x9YuRRA/////yjcEUAAAAAAAAAPQAEAAOAi2xpAAAAA4CQGHEADAADg0CIdQP///z/fTxpAAgAAANX4FUD////fTWIQQAEAAOD7KRRA+///H1rkF0D///+/cugUQP3//7+d7xRAAQAAYI/CEEACAACgQwsUQP////8BKxFAAgAAILDyFED+//9/l24SQAQAAACqcRZABQAA4KWbF0AFAADgpRsaQPz//5/EIBBA/v//PwgsFUAEAADAzEwXQAIAAIBBYBlA////H90kEUD9//+/nW8aQAIAAKAcWhdABAAAIIXrFED9//9f5VAcQAcAAKDEIA5ABAAA4KdGFkABAABgj8IRQP3//1/l0BlA/v//v3QTFUD5//+f8dIMQP///x8EVhhAAgAAgEHgHUABAADAILAZQAMAAACsHBBA/P//f+kmDUD+//+fmRkWQAMAAEBikBtAAQAA4PspEUACAACgHNocQAUAAIAULhJA+v//P166DED9///fUTgTQP7//1/jJR5A+///n8ZLEkD8//9f53sWQAUAAGASAxhABAAAoBgEFED9//9f5dAZQAQAAIAWWRhAAQAA4CLbEkD///9fukkaQAQAAEBgZRpA/v//v3STEkD7//8fWmQYQAgAAAAtsgtABAAAgBbZE0D9//+fm8QLQPv//5/tfA9AAQAA4CLbF0ABAACgRTYSQPz//x8xCBdA+///XxBYFUADAAAArJwZQPz///9VDgxAAAAAYLgeEUD/////KNwWQP///x8E1hJA+///n8ZLFEACAABgZmYXQPz//z8Mgh1A/f//31G4EEABAAAA1yMSQAQAAKDx0hdAAAAAYJFtGUAAAADASQwVQAEAACCyHRVAAAAAAACAGUD////fTeIXQAMAAECJQR1A/P//HzEIGED9////U+MVQPz//z8zMxJA/P//PzOzFED7///fo/AUQAsAAAApXA5A9v//nxxaDkAFAABAXroUQAMAAODQIh1AAgAAANX4G0AEAADgp0YXQAQAAKDxUhBAAAAAINv5HUAAAABAtnMbQAQAACCFaxhA/P//33qUFUABAABgj8IPQP///3+VQx1A/v//PwisEED9//9f5VATQAQAAKAYBB5A/v//HwaBEUA=",
          "dtype": "f8"
         }
        },
        {
         "marker": {
          "color": "red",
          "line": {
           "color": "darkred",
           "width": 2
          },
          "opacity": 0.9,
          "size": 10
         },
         "mode": "markers",
         "name": "测试数据",
         "type": "scatter3d",
         "x": {
          "bdata": "EAAAQNe39z8SAAAgQZL4PwoAAKCABfo/BgAAALi38T8VAAAgHcj1PwAAAMApgvQ/////P6+r9j8VAADgRnjxPw0AAGBGbfY//P//PyKu6j/6//9fqRfyPw4AAKDDB/M/AQAAoEVy6z8UAABAgZP0P/P//x8mM/E/BgAAQPUK9T////9fxi+XPxAAAOCOb/A/AwAAgIPr5j8BAAAgo6vvPwIAACDKDuI/9///X42C8j8EAADAcV3kP+7//7+zpPE/AgAAYOBZ6T////+/whrlP/3//9/nWeU//P//HxLv4j8IAAAAaIzTP/z//585W+A/AAAAAAAAAAA=",
          "dtype": "f8"
         },
         "y": {
          "bdata": "/f//Pz8I5D8BAACA61biP/3//3+Qd+M/+////z3/2z/8//9/n5jgPwcAAAAQ7Nc/////nxUu4D/3//+f8t3NP/7//9/JgdA/BAAA4CPh4T8AAACg98TaP/n//5+YcN8/AQAAIBS64j/4//8fsoLGP/j//78Ld9I//P///9rm3z8AAADAn0TjPwIAAKCnOdk/BQAAoC9N0D8GAADAFw7SP/j//z99i9s/BAAAoM3pzz8DAABg6YrdPwIAAKCxd9I/////X0QU3j/s//+fJbaOP////9/cEts/DgAAYG3uzz/////f5ljYPwUAACAN9tg/AAAA4HlV0T8=",
          "dtype": "f8"
         },
         "z": {
          "bdata": "AwAAIIcWHkD///+/cugbQAEAAECNlxpABQAAgD2KGkD+//8/CKwYQAIAAKAc2hdABQAAgBSuF0D7//+f7XwXQAIAAKAcWhdA/f//f8BKF0D///9fukkXQAQAAKAYhBZA/f//31G4FUD7//+fxksVQAIAAGBm5hRAAwAAIK7HFED8//+/n5oUQPv//3/r0RNA/v//n5kZE0D7///fo/ASQAMAACCuxxJA/f//n5vEEkD8////VQ4SQPv//5/t/BFAAQAAYI9CEUD8////VY4QQP7//z/hehBACAAAwHa+DED7//9/wvULQAgAAIDAygpA9///n0OLBUA=",
          "dtype": "f8"
         }
        }
       ],
       "layout": {
        "height": 600,
        "scene": {
         "xaxis": {
          "title": {
           "text": "经济指标 (GDP per Capita)"
          }
         },
         "yaxis": {
          "title": {
           "text": "自由度 (Freedom)"
          }
         },
         "zaxis": {
          "title": {
           "text": "幸福指数 (Happiness Score)"
          }
         }
        },
        "template": {
         "data": {
          "bar": [
           {
            "error_x": {
             "color": "#2a3f5f"
            },
            "error_y": {
             "color": "#2a3f5f"
            },
            "marker": {
             "line": {
              "color": "#E5ECF6",
              "width": 0.5
             },
             "pattern": {
              "fillmode": "overlay",
              "size": 10,
              "solidity": 0.2
             }
            },
            "type": "bar"
           }
          ],
          "barpolar": [
           {
            "marker": {
             "line": {
              "color": "#E5ECF6",
              "width": 0.5
             },
             "pattern": {
              "fillmode": "overlay",
              "size": 10,
              "solidity": 0.2
             }
            },
            "type": "barpolar"
           }
          ],
          "carpet": [
           {
            "aaxis": {
             "endlinecolor": "#2a3f5f",
             "gridcolor": "white",
             "linecolor": "white",
             "minorgridcolor": "white",
             "startlinecolor": "#2a3f5f"
            },
            "baxis": {
             "endlinecolor": "#2a3f5f",
             "gridcolor": "white",
             "linecolor": "white",
             "minorgridcolor": "white",
             "startlinecolor": "#2a3f5f"
            },
            "type": "carpet"
           }
          ],
          "choropleth": [
           {
            "colorbar": {
             "outlinewidth": 0,
             "ticks": ""
            },
            "type": "choropleth"
           }
          ],
          "contour": [
           {
            "colorbar": {
             "outlinewidth": 0,
             "ticks": ""
            },
            "colorscale": [
             [
              0,
              "#0d0887"
             ],
             [
              0.1111111111111111,
              "#46039f"
             ],
             [
              0.2222222222222222,
              "#7201a8"
             ],
             [
              0.3333333333333333,
              "#9c179e"
             ],
             [
              0.4444444444444444,
              "#bd3786"
             ],
             [
              0.5555555555555556,
              "#d8576b"
             ],
             [
              0.6666666666666666,
              "#ed7953"
             ],
             [
              0.7777777777777778,
              "#fb9f3a"
             ],
             [
              0.8888888888888888,
              "#fdca26"
             ],
             [
              1,
              "#f0f921"
             ]
            ],
            "type": "contour"
           }
          ],
          "contourcarpet": [
           {
            "colorbar": {
             "outlinewidth": 0,
             "ticks": ""
            },
            "type": "contourcarpet"
           }
          ],
          "heatmap": [
           {
            "colorbar": {
             "outlinewidth": 0,
             "ticks": ""
            },
            "colorscale": [
             [
              0,
              "#0d0887"
             ],
             [
              0.1111111111111111,
              "#46039f"
             ],
             [
              0.2222222222222222,
              "#7201a8"
             ],
             [
              0.3333333333333333,
              "#9c179e"
             ],
             [
              0.4444444444444444,
              "#bd3786"
             ],
             [
              0.5555555555555556,
              "#d8576b"
             ],
             [
              0.6666666666666666,
              "#ed7953"
             ],
             [
              0.7777777777777778,
              "#fb9f3a"
             ],
             [
              0.8888888888888888,
              "#fdca26"
             ],
             [
              1,
              "#f0f921"
             ]
            ],
            "type": "heatmap"
           }
          ],
          "histogram": [
           {
            "marker": {
             "pattern": {
              "fillmode": "overlay",
              "size": 10,
              "solidity": 0.2
             }
            },
            "type": "histogram"
           }
          ],
          "histogram2d": [
           {
            "colorbar": {
             "outlinewidth": 0,
             "ticks": ""
            },
            "colorscale": [
             [
              0,
              "#0d0887"
             ],
             [
              0.1111111111111111,
              "#46039f"
             ],
             [
              0.2222222222222222,
              "#7201a8"
             ],
             [
              0.3333333333333333,
              "#9c179e"
             ],
             [
              0.4444444444444444,
              "#bd3786"
             ],
             [
              0.5555555555555556,
              "#d8576b"
             ],
             [
              0.6666666666666666,
              "#ed7953"
             ],
             [
              0.7777777777777778,
              "#fb9f3a"
             ],
             [
              0.8888888888888888,
              "#fdca26"
             ],
             [
              1,
              "#f0f921"
             ]
            ],
            "type": "histogram2d"
           }
          ],
          "histogram2dcontour": [
           {
            "colorbar": {
             "outlinewidth": 0,
             "ticks": ""
            },
            "colorscale": [
             [
              0,
              "#0d0887"
             ],
             [
              0.1111111111111111,
              "#46039f"
             ],
             [
              0.2222222222222222,
              "#7201a8"
             ],
             [
              0.3333333333333333,
              "#9c179e"
             ],
             [
              0.4444444444444444,
              "#bd3786"
             ],
             [
              0.5555555555555556,
              "#d8576b"
             ],
             [
              0.6666666666666666,
              "#ed7953"
             ],
             [
              0.7777777777777778,
              "#fb9f3a"
             ],
             [
              0.8888888888888888,
              "#fdca26"
             ],
             [
              1,
              "#f0f921"
             ]
            ],
            "type": "histogram2dcontour"
           }
          ],
          "mesh3d": [
           {
            "colorbar": {
             "outlinewidth": 0,
             "ticks": ""
            },
            "type": "mesh3d"
           }
          ],
          "parcoords": [
           {
            "line": {
             "colorbar": {
              "outlinewidth": 0,
              "ticks": ""
             }
            },
            "type": "parcoords"
           }
          ],
          "pie": [
           {
            "automargin": true,
            "type": "pie"
           }
          ],
          "scatter": [
           {
            "fillpattern": {
             "fillmode": "overlay",
             "size": 10,
             "solidity": 0.2
            },
            "type": "scatter"
           }
          ],
          "scatter3d": [
           {
            "line": {
             "colorbar": {
              "outlinewidth": 0,
              "ticks": ""
             }
            },
            "marker": {
             "colorbar": {
              "outlinewidth": 0,
              "ticks": ""
             }
            },
            "type": "scatter3d"
           }
          ],
          "scattercarpet": [
           {
            "marker": {
             "colorbar": {
              "outlinewidth": 0,
              "ticks": ""
             }
            },
            "type": "scattercarpet"
           }
          ],
          "scattergeo": [
           {
            "marker": {
             "colorbar": {
              "outlinewidth": 0,
              "ticks": ""
             }
            },
            "type": "scattergeo"
           }
          ],
          "scattergl": [
           {
            "marker": {
             "colorbar": {
              "outlinewidth": 0,
              "ticks": ""
             }
            },
            "type": "scattergl"
           }
          ],
          "scattermap": [
           {
            "marker": {
             "colorbar": {
              "outlinewidth": 0,
              "ticks": ""
             }
            },
            "type": "scattermap"
           }
          ],
          "scattermapbox": [
           {
            "marker": {
             "colorbar": {
              "outlinewidth": 0,
              "ticks": ""
             }
            },
            "type": "scattermapbox"
           }
          ],
          "scatterpolar": [
           {
            "marker": {
             "colorbar": {
              "outlinewidth": 0,
              "ticks": ""
             }
            },
            "type": "scatterpolar"
           }
          ],
          "scatterpolargl": [
           {
            "marker": {
             "colorbar": {
              "outlinewidth": 0,
              "ticks": ""
             }
            },
            "type": "scatterpolargl"
           }
          ],
          "scatterternary": [
           {
            "marker": {
             "colorbar": {
              "outlinewidth": 0,
              "ticks": ""
             }
            },
            "type": "scatterternary"
           }
          ],
          "surface": [
           {
            "colorbar": {
             "outlinewidth": 0,
             "ticks": ""
            },
            "colorscale": [
             [
              0,
              "#0d0887"
             ],
             [
              0.1111111111111111,
              "#46039f"
             ],
             [
              0.2222222222222222,
              "#7201a8"
             ],
             [
              0.3333333333333333,
              "#9c179e"
             ],
             [
              0.4444444444444444,
              "#bd3786"
             ],
             [
              0.5555555555555556,
              "#d8576b"
             ],
             [
              0.6666666666666666,
              "#ed7953"
             ],
             [
              0.7777777777777778,
              "#fb9f3a"
             ],
             [
              0.8888888888888888,
              "#fdca26"
             ],
             [
              1,
              "#f0f921"
             ]
            ],
            "type": "surface"
           }
          ],
          "table": [
           {
            "cells": {
             "fill": {
              "color": "#EBF0F8"
             },
             "line": {
              "color": "white"
             }
            },
            "header": {
             "fill": {
              "color": "#C8D4E3"
             },
             "line": {
              "color": "white"
             }
            },
            "type": "table"
           }
          ]
         },
         "layout": {
          "annotationdefaults": {
           "arrowcolor": "#2a3f5f",
           "arrowhead": 0,
           "arrowwidth": 1
          },
          "autotypenumbers": "strict",
          "coloraxis": {
           "colorbar": {
            "outlinewidth": 0,
            "ticks": ""
           }
          },
          "colorscale": {
           "diverging": [
            [
             0,
             "#8e0152"
            ],
            [
             0.1,
             "#c51b7d"
            ],
            [
             0.2,
             "#de77ae"
            ],
            [
             0.3,
             "#f1b6da"
            ],
            [
             0.4,
             "#fde0ef"
            ],
            [
             0.5,
             "#f7f7f7"
            ],
            [
             0.6,
             "#e6f5d0"
            ],
            [
             0.7,
             "#b8e186"
            ],
            [
             0.8,
             "#7fbc41"
            ],
            [
             0.9,
             "#4d9221"
            ],
            [
             1,
             "#276419"
            ]
           ],
           "sequential": [
            [
             0,
             "#0d0887"
            ],
            [
             0.1111111111111111,
             "#46039f"
            ],
            [
             0.2222222222222222,
             "#7201a8"
            ],
            [
             0.3333333333333333,
             "#9c179e"
            ],
            [
             0.4444444444444444,
             "#bd3786"
            ],
            [
             0.5555555555555556,
             "#d8576b"
            ],
            [
             0.6666666666666666,
             "#ed7953"
            ],
            [
             0.7777777777777778,
             "#fb9f3a"
            ],
            [
             0.8888888888888888,
             "#fdca26"
            ],
            [
             1,
             "#f0f921"
            ]
           ],
           "sequentialminus": [
            [
             0,
             "#0d0887"
            ],
            [
             0.1111111111111111,
             "#46039f"
            ],
            [
             0.2222222222222222,
             "#7201a8"
            ],
            [
             0.3333333333333333,
             "#9c179e"
            ],
            [
             0.4444444444444444,
             "#bd3786"
            ],
            [
             0.5555555555555556,
             "#d8576b"
            ],
            [
             0.6666666666666666,
             "#ed7953"
            ],
            [
             0.7777777777777778,
             "#fb9f3a"
            ],
            [
             0.8888888888888888,
             "#fdca26"
            ],
            [
             1,
             "#f0f921"
            ]
           ]
          },
          "colorway": [
           "#636efa",
           "#EF553B",
           "#00cc96",
           "#ab63fa",
           "#FFA15A",
           "#19d3f3",
           "#FF6692",
           "#B6E880",
           "#FF97FF",
           "#FECB52"
          ],
          "font": {
           "color": "#2a3f5f"
          },
          "geo": {
           "bgcolor": "white",
           "lakecolor": "white",
           "landcolor": "#E5ECF6",
           "showlakes": true,
           "showland": true,
           "subunitcolor": "white"
          },
          "hoverlabel": {
           "align": "left"
          },
          "hovermode": "closest",
          "mapbox": {
           "style": "light"
          },
          "paper_bgcolor": "white",
          "plot_bgcolor": "#E5ECF6",
          "polar": {
           "angularaxis": {
            "gridcolor": "white",
            "linecolor": "white",
            "ticks": ""
           },
           "bgcolor": "#E5ECF6",
           "radialaxis": {
            "gridcolor": "white",
            "linecolor": "white",
            "ticks": ""
           }
          },
          "scene": {
           "xaxis": {
            "backgroundcolor": "#E5ECF6",
            "gridcolor": "white",
            "gridwidth": 2,
            "linecolor": "white",
            "showbackground": true,
            "ticks": "",
            "zerolinecolor": "white"
           },
           "yaxis": {
            "backgroundcolor": "#E5ECF6",
            "gridcolor": "white",
            "gridwidth": 2,
            "linecolor": "white",
            "showbackground": true,
            "ticks": "",
            "zerolinecolor": "white"
           },
           "zaxis": {
            "backgroundcolor": "#E5ECF6",
            "gridcolor": "white",
            "gridwidth": 2,
            "linecolor": "white",
            "showbackground": true,
            "ticks": "",
            "zerolinecolor": "white"
           }
          },
          "shapedefaults": {
           "line": {
            "color": "#2a3f5f"
           }
          },
          "ternary": {
           "aaxis": {
            "gridcolor": "white",
            "linecolor": "white",
            "ticks": ""
           },
           "baxis": {
            "gridcolor": "white",
            "linecolor": "white",
            "ticks": ""
           },
           "bgcolor": "#E5ECF6",
           "caxis": {
            "gridcolor": "white",
            "linecolor": "white",
            "ticks": ""
           }
          },
          "title": {
           "x": 0.05
          },
          "xaxis": {
           "automargin": true,
           "gridcolor": "white",
           "linecolor": "white",
           "ticks": "",
           "title": {
            "standoff": 15
           },
           "zerolinecolor": "white",
           "zerolinewidth": 2
          },
          "yaxis": {
           "automargin": true,
           "gridcolor": "white",
           "linecolor": "white",
           "ticks": "",
           "title": {
            "standoff": 15
           },
           "zerolinecolor": "white",
           "zerolinewidth": 2
          }
         }
        },
        "title": {
         "text": "🌍 多元线性回归：经济指标 vs 自由度 vs 幸福指数"
        },
        "width": 800
       }
      },
      "text/html": [
       "<div>            <script src=\"https://cdnjs.cloudflare.com/ajax/libs/mathjax/2.7.5/MathJax.js?config=TeX-AMS-MML_SVG\"></script><script type=\"text/javascript\">if (window.MathJax && window.MathJax.Hub && window.MathJax.Hub.Config) {window.MathJax.Hub.Config({SVG: {font: \"STIX-Web\"}});}</script>                <script type=\"text/javascript\">window.PlotlyConfig = {MathJaxConfig: 'local'};</script>\n",
       "        <script charset=\"utf-8\" src=\"https://cdn.plot.ly/plotly-3.0.1.min.js\" integrity=\"sha256-oy6Be7Eh6eiQFs5M7oXuPxxm9qbJXEtTpfSI93dW16Q=\" crossorigin=\"anonymous\"></script>                <div id=\"b21f2c2a-6116-4ec7-87bc-b0a7d96df484\" class=\"plotly-graph-div\" style=\"height:600px; width:800px;\"></div>            <script type=\"text/javascript\">                window.PLOTLYENV=window.PLOTLYENV || {};                                if (document.getElementById(\"b21f2c2a-6116-4ec7-87bc-b0a7d96df484\")) {                    Plotly.newPlot(                        \"b21f2c2a-6116-4ec7-87bc-b0a7d96df484\",                        [{\"marker\":{\"color\":\"blue\",\"line\":{\"color\":\"darkblue\",\"width\":1},\"opacity\":0.8,\"size\":8},\"mode\":\"markers\",\"name\":\"\\u8bad\\u7ec3\\u6570\\u636e\",\"x\":{\"dtype\":\"f8\",\"bdata\":\"\\u002f\\u002f\\u002f\\u002f3w0O8j\\u002f8\\u002f\\u002f8\\u002f55bbPwIAACDAC\\u002fI\\u002f+\\u002f\\u002f\\u002f\\u002f2698z8DAADgAbbVPw0AAODyjPU\\u002f\\u002fP\\u002f\\u002fH8g76T8OAADghXm+PwIAAKCTdLc\\u002fBgAAwCEs8z8DAACA9JfnP\\u002f7\\u002f\\u002f780rOA\\u002f+v\\u002f\\u002ff3RM8T8AAACAWJ7tPwcAAMCIzvc\\u002fDwAA4GcL9D\\u002f1\\u002f\\u002f\\u002f\\u002fD+X2PwMAAODaYOc\\u002f\\u002fv\\u002f\\u002ff94r8z\\u002f3\\u002f\\u002f+f3g3YP\\u002ff\\u002f\\u002f7\\u002fuEPc\\u002f+f\\u002f\\u002ffybL9z8CAADgKcD3P+z\\u002f\\u002f99wc\\u002fI\\u002fAAAAgFjX7T\\u002f\\u002f\\u002f\\u002f8f\\u002faDsP\\u002f\\u002f\\u002f\\u002fz90yuA\\u002fAAAAwCmr9D8HAACgvaH0PwMAACAndfI\\u002fCQAAwL153j8DAADAVFXsP\\u002fz\\u002f\\u002f38pwOQ\\u002fDQAAACXw8T8CAABgG8biP+7\\u002f\\u002f19SIvU\\u002f8v\\u002f\\u002ff4cI9T\\u002f4\\u002f\\u002f\\u002f\\u002fEn71PwIAAIAhatY\\u002fDgAAIJeP8z8MAAAgonvzP\\u002f3\\u002f\\u002fx9vffg\\u002f\\u002ff\\u002f\\u002fP2tr7j8AAABAlqT1P\\u002f7\\u002f\\u002f3\\u002foUuc\\u002f7v\\u002f\\u002ffx1F8T\\u002f5\\u002f\\u002f9fW8HxP\\u002f\\u002f\\u002f\\u002f\\u002f8Y9PE\\u002f+\\u002f\\u002f\\u002ff0KB8j\\u002f5\\u002f\\u002f+fWCjwPxQAAOAfe\\u002fM\\u002f\\u002fv\\u002f\\u002fP6FC5z8IAACAT5fXPw0AAIDRqPQ\\u002fBAAA4N4Y9z8QAABgIvD2PwgAACD4ucQ\\u002f9\\u002f\\u002f\\u002fn16S0z\\u002fw\\u002f\\u002f8\\u002f\\u002fKDxPxMAAGCla\\u002fc\\u002fAgAAAAnj6T8FAAAAkQH2PwEAAEC9ftc\\u002f\\u002f\\u002f\\u002f\\u002ff4Vs2T\\u002f\\u002f\\u002f\\u002f+\\u002fwh3wPwIAAIAI3fk\\u002fAQAAYKXc7j\\u002f6\\u002f\\u002f8f7LH1PwEAAGD0HO0\\u002fAAAAIDwU4z8DAACgcOfrPxEAAGCJ0Pc\\u002f\\u002fv\\u002f\\u002fH1aV8j8RAADAkRP7PwwAAGD49vI\\u002fAQAAoM\\u002fg7z\\u002fz\\u002f\\u002f\\u002ffzzT1P\\u002f3\\u002f\\u002fz9w3ug\\u002fAAAAwF+13j8AAABgiJnXP\\u002fn\\u002f\\u002f59nCNw\\u002f9P\\u002f\\u002fXzFS9j8AAACgcu\\u002fhPw8AAGCUdfU\\u002f\\u002fv\\u002f\\u002fn1+27z8TAABgfib2Pw4AAIBpTc8\\u002fAgAAAAWUtz8AAABgSJDwPwgAAGA1lNc\\u002fAwAAAIgU6T8TAADABiz0PxUAAEAoEPg\\u002fAwAAQC1M4z\\u002f8\\u002f\\u002f+\\u002f\\u002f6zeP\\u002fz\\u002f\\u002fz8iDu0\\u002f9f\\u002f\\u002f30Qh8T8AAADAc9vvP\\u002f3\\u002f\\u002f1+Pcu4\\u002fEQAAAKju\\u002fT\\u002f9\\u002f\\u002f9\\u002fhirpPwEAAKDFffY\\u002fBwAAQFwD8D\\u002f0\\u002f\\u002f\\u002f\\u002fqNP4PwYAAEC6\\u002fc0\\u002fAQAA4III8T\\u002f+\\u002f\\u002f+\\u002fgxnsPwEAAGA+eOs\\u002f+f\\u002f\\u002ff82x2T8BAADg5W\\u002fvP\\u002f3\\u002f\\u002f58C6fc\\u002f\\u002f\\u002f\\u002f\\u002fX3q9+D\\u002f8\\u002f\\u002f\\u002ffio30PwkAAGBcadg\\u002fEQAAACgK+T8EAABAAN\\u002f7P\\u002fT\\u002f\\u002f7+SIPo\\u002fBAAAwOwb8T\\u002f5\\u002f\\u002f+\\u002fbeHNP+z\\u002f\\u002fz\\u002fSqvc\\u002fBAAA4KhB4z8KAADAC+DwP\\u002fz\\u002f\\u002fz+ssPc\\u002f\\u002ff\\u002f\\u002fP7DR7D8=\"},\"y\":{\"dtype\":\"f8\",\"bdata\":\"EAAAgC22wz\\u002f4\\u002f\\u002f9f+ULbPwAAACABkeI\\u002fAQAA4NGZ4T8FAADAeiraPwEAAEAzKN4\\u002fAgAAYBZG4j8GAADg7E3VPwUAAMBPq64\\u002f\\u002ff\\u002f\\u002ff1U\\u002f0z\\u002f4\\u002f\\u002f9\\u002fsKTcP\\u002fz\\u002f\\u002fz+YANk\\u002f\\u002fv\\u002f\\u002fXydC3j8IAADADFveP\\u002f\\u002f\\u002f\\u002f98XAOI\\u002f9\\u002f\\u002f\\u002fXw0f2D8HAACAHhjePwUAAMDwRtY\\u002fAAAAADH90z\\u002f9\\u002f\\u002f+fUYfVP\\u002f3\\u002f\\u002f78XQ+A\\u002f\\u002ff\\u002f\\u002f\\u002fyMr4j8BAAAgXkDjPwQAACArato\\u002fBwAAoPNN3j8fAABgRnu\\u002fP\\u002fz\\u002f\\u002fx8mLt4\\u002f\\u002fP\\u002f\\u002ff6Sm4D8BAADg14G4PwIAAKBie9k\\u002f+\\u002f\\u002f\\u002fP4+f0z8EAADAmAzgP\\u002f3\\u002f\\u002f5\\u002fhmbg\\u002f9P\\u002f\\u002fv2b1yD\\u002f\\u002f\\u002f\\u002f8\\u002fZZ3ePwEAAOAWqt4\\u002fAwAAoE77zT\\u002f9\\u002f\\u002f\\u002f\\u002fLdfiPwYAAGBxwtQ\\u002f\\u002ff\\u002f\\u002fv5Je0D\\u002f9\\u002f\\u002f+fjD\\u002fdP\\u002fj\\u002f\\u002f5+2yNw\\u002fAAAAwF\\u002fN0z8FAACAqWvfP\\u002fr\\u002f\\u002f5810M4\\u002fAwAA4NCu4T\\u002f9\\u002f\\u002f8\\u002fcJDiPwQAAICRKuA\\u002f+\\u002f\\u002f\\u002ff9bn0j8BAACAdfXhPwQAAKBhiuI\\u002fBAAAoIgbzj\\u002f0\\u002f\\u002f+fRhmfP\\u002fr\\u002f\\u002f5+1vtk\\u002f\\u002fP\\u002f\\u002f30DG4z\\u002f8\\u002f\\u002f+\\u002fRCLXP\\u002f3\\u002f\\u002fx8vRtc\\u002f\\u002fv\\u002f\\u002ff5k3yD\\u002f9\\u002f\\u002f+\\u002fks7dP\\u002f7\\u002f\\u002fz\\u002fNReE\\u002f+v\\u002f\\u002fv3bX2z8JAACgt\\u002fvZP\\u002f3\\u002f\\u002f\\u002f+3duA\\u002fAgAAIPHSwj8BAADgIIrSP\\u002f3\\u002f\\u002f79hVeQ\\u002fAgAAoFOm4D\\u002f+\\u002f\\u002f+\\u002fJbrWPwAAAGBNrds\\u002f\\u002fP\\u002f\\u002f38od3T8EAAAgfwDhPwEAAOAHLeE\\u002f+v\\u002f\\u002fv8WC0j8CAABAS5jhPwIAAOAzpt8\\u002f\\u002f\\u002f\\u002f\\u002fP3lq2D8HAABgrO7SPwMAAODE37Q\\u002f+\\u002f\\u002f\\u002f\\u002f\\u002fgt3D\\u002f+\\u002f\\u002f\\u002f\\u002fdp7iPxAAAKCfx8Q\\u002fBgAAQLBp0D8FAADgFPrcP\\u002f\\u002f\\u002f\\u002f3+KUuI\\u002f\\u002fP\\u002f\\u002ff2nH2j8JAADAeCnaPwUAAABCT9Y\\u002fDQAAQPszzj8GAADg2MzcP\\u002f7\\u002f\\u002f\\u002f+KZdQ\\u002fAwAAIOdG2T\\u002f6\\u002f\\u002f\\u002f\\u002fZdjUPwEAAEB4u+I\\u002f+\\u002f\\u002f\\u002f3zen3D\\u002f4\\u002f\\u002f\\u002ff4C\\u002fYP\\u002fz\\u002f\\u002f18yheE\\u002f\\u002fv\\u002f\\u002fXyeP3j8DAABgaV\\u002fcPwUAAMCOqNA\\u002f\\u002f\\u002f\\u002f\\u002ffwpV4z\\u002f8\\u002f\\u002f9\\u002fXxDlP\\u002fz\\u002f\\u002f59lpuM\\u002fAAAAoPch3T\\u002f\\u002f\\u002f\\u002f+\\u002fB2zfP\\u002fr\\u002f\\u002f\\u002f9Hxd4\\u002fAAAAwKTb1D\\u002f7\\u002f\\u002f8fRB\\u002faPwAAAAAAAAAA6P\\u002f\\u002fv5Quuz8MAAAg4inKPwEAAAATneM\\u002fAQAAwAYv4D\\u002f7\\u002f\\u002f8\\u002fQP\\u002fbPwAAAKAoXdw\\u002fAwAAQJ7X4z\\u002f+\\u002f\\u002f9fkxfjP\\u002f7\\u002f\\u002f7\\u002f+w98\\u002fDgAAwDC3yj\\u002f9\\u002f\\u002f\\u002f\\u002f7eHdP\\u002f7\\u002f\\u002f38jjuM\\u002f\\u002fv\\u002f\\u002fX51E5D8BAACA+qveP\\u002fz\\u002f\\u002f1+3EeQ\\u002fDwAAYABiyT8=\"},\"z\":{\"dtype\":\"f8\",\"bdata\":\"AAAAAAAAFUD4\\u002f\\u002f8\\u002fiUENQPz\\u002f\\u002f\\u002f8sshlAAQAAINnOGUD9\\u002f\\u002f8\\u002fCtcRQP\\u002f\\u002f\\u002f59wPRdA+\\u002f\\u002f\\u002fn8ZLFEAKAACAlUMMQP\\u002f\\u002f\\u002f59wPQdAAAAAAAAAFkABAABAtEgYQAcAAMDIdg5AAQAAQI0XFUD9\\u002f\\u002f+\\u002fdj4VQAQAAADTzRtABQAA4KWbGkD9\\u002f\\u002f+fm8QZQPz\\u002f\\u002fx9YuRRA\\u002f\\u002f\\u002f\\u002f\\u002fyjcEUAAAAAAAAAPQAEAAOAi2xpAAAAA4CQGHEADAADg0CIdQP\\u002f\\u002f\\u002fz\\u002ffTxpAAgAAANX4FUD\\u002f\\u002f\\u002f\\u002ffTWIQQAEAAOD7KRRA+\\u002f\\u002f\\u002fH1rkF0D\\u002f\\u002f\\u002f+\\u002fcugUQP3\\u002f\\u002f7+d7xRAAQAAYI\\u002fCEEACAACgQwsUQP\\u002f\\u002f\\u002f\\u002f8BKxFAAgAAILDyFED+\\u002f\\u002f9\\u002fl24SQAQAAACqcRZABQAA4KWbF0AFAADgpRsaQPz\\u002f\\u002f5\\u002fEIBBA\\u002fv\\u002f\\u002fPwgsFUAEAADAzEwXQAIAAIBBYBlA\\u002f\\u002f\\u002f\\u002fH90kEUD9\\u002f\\u002f+\\u002fnW8aQAIAAKAcWhdABAAAIIXrFED9\\u002f\\u002f9f5VAcQAcAAKDEIA5ABAAA4KdGFkABAABgj8IRQP3\\u002f\\u002f1\\u002fl0BlA\\u002fv\\u002f\\u002fv3QTFUD5\\u002f\\u002f+f8dIMQP\\u002f\\u002f\\u002fx8EVhhAAgAAgEHgHUABAADAILAZQAMAAACsHBBA\\u002fP\\u002f\\u002ff+kmDUD+\\u002f\\u002f+fmRkWQAMAAEBikBtAAQAA4PspEUACAACgHNocQAUAAIAULhJA+v\\u002f\\u002fP166DED9\\u002f\\u002f\\u002ffUTgTQP7\\u002f\\u002f1\\u002fjJR5A+\\u002f\\u002f\\u002fn8ZLEkD8\\u002f\\u002f9f53sWQAUAAGASAxhABAAAoBgEFED9\\u002f\\u002f9f5dAZQAQAAIAWWRhAAQAA4CLbEkD\\u002f\\u002f\\u002f9fukkaQAQAAEBgZRpA\\u002fv\\u002f\\u002fv3STEkD7\\u002f\\u002f8fWmQYQAgAAAAtsgtABAAAgBbZE0D9\\u002f\\u002f+fm8QLQPv\\u002f\\u002f5\\u002ftfA9AAQAA4CLbF0ABAACgRTYSQPz\\u002f\\u002fx8xCBdA+\\u002f\\u002f\\u002fXxBYFUADAAAArJwZQPz\\u002f\\u002f\\u002f9VDgxAAAAAYLgeEUD\\u002f\\u002f\\u002f\\u002f\\u002fKNwWQP\\u002f\\u002f\\u002fx8E1hJA+\\u002f\\u002f\\u002fn8ZLFEACAABgZmYXQPz\\u002f\\u002fz8Mgh1A\\u002ff\\u002f\\u002f31G4EEABAAAA1yMSQAQAAKDx0hdAAAAAYJFtGUAAAADASQwVQAEAACCyHRVAAAAAAACAGUD\\u002f\\u002f\\u002f\\u002ffTeIXQAMAAECJQR1A\\u002fP\\u002f\\u002fHzEIGED9\\u002f\\u002f\\u002f\\u002fU+MVQPz\\u002f\\u002fz8zMxJA\\u002fP\\u002f\\u002fPzOzFED7\\u002f\\u002f\\u002ffo\\u002fAUQAsAAAApXA5A9v\\u002f\\u002fnxxaDkAFAABAXroUQAMAAODQIh1AAgAAANX4G0AEAADgp0YXQAQAAKDxUhBAAAAAINv5HUAAAABAtnMbQAQAACCFaxhA\\u002fP\\u002f\\u002f33qUFUABAABgj8IPQP\\u002f\\u002f\\u002f3+VQx1A\\u002fv\\u002f\\u002fPwisEED9\\u002f\\u002f9f5VATQAQAAKAYBB5A\\u002fv\\u002f\\u002fHwaBEUA=\"},\"type\":\"scatter3d\"},{\"marker\":{\"color\":\"red\",\"line\":{\"color\":\"darkred\",\"width\":2},\"opacity\":0.9,\"size\":10},\"mode\":\"markers\",\"name\":\"\\u6d4b\\u8bd5\\u6570\\u636e\",\"x\":{\"dtype\":\"f8\",\"bdata\":\"EAAAQNe39z8SAAAgQZL4PwoAAKCABfo\\u002fBgAAALi38T8VAAAgHcj1PwAAAMApgvQ\\u002f\\u002f\\u002f\\u002f\\u002fP6+r9j8VAADgRnjxPw0AAGBGbfY\\u002f\\u002fP\\u002f\\u002fPyKu6j\\u002f6\\u002f\\u002f9fqRfyPw4AAKDDB\\u002fM\\u002fAQAAoEVy6z8UAABAgZP0P\\u002fP\\u002f\\u002fx8mM\\u002fE\\u002fBgAAQPUK9T\\u002f\\u002f\\u002f\\u002f9fxi+XPxAAAOCOb\\u002fA\\u002fAwAAgIPr5j8BAAAgo6vvPwIAACDKDuI\\u002f9\\u002f\\u002f\\u002fX42C8j8EAADAcV3kP+7\\u002f\\u002f7+zpPE\\u002fAgAAYOBZ6T\\u002f\\u002f\\u002f\\u002f+\\u002fwhrlP\\u002f3\\u002f\\u002f9\\u002fnWeU\\u002f\\u002fP\\u002f\\u002fHxLv4j8IAAAAaIzTP\\u002fz\\u002f\\u002f585W+A\\u002fAAAAAAAAAAA=\"},\"y\":{\"dtype\":\"f8\",\"bdata\":\"\\u002ff\\u002f\\u002fPz8I5D8BAACA61biP\\u002f3\\u002f\\u002f3+Qd+M\\u002f+\\u002f\\u002f\\u002f\\u002fz3\\u002f2z\\u002f8\\u002f\\u002f9\\u002fn5jgPwcAAAAQ7Nc\\u002f\\u002f\\u002f\\u002f\\u002fnxUu4D\\u002f3\\u002f\\u002f+f8t3NP\\u002f7\\u002f\\u002f9\\u002fJgdA\\u002fBAAA4CPh4T8AAACg98TaP\\u002fn\\u002f\\u002f5+YcN8\\u002fAQAAIBS64j\\u002f4\\u002f\\u002f8fsoLGP\\u002fj\\u002f\\u002f78Ld9I\\u002f\\u002fP\\u002f\\u002f\\u002f9rm3z8AAADAn0TjPwIAAKCnOdk\\u002fBQAAoC9N0D8GAADAFw7SP\\u002fj\\u002f\\u002fz99i9s\\u002fBAAAoM3pzz8DAABg6YrdPwIAAKCxd9I\\u002f\\u002f\\u002f\\u002f\\u002fX0QU3j\\u002fs\\u002f\\u002f+fJbaOP\\u002f\\u002f\\u002f\\u002f9\\u002fcEts\\u002fDgAAYG3uzz\\u002f\\u002f\\u002f\\u002f\\u002ff5ljYPwUAACAN9tg\\u002fAAAA4HlV0T8=\"},\"z\":{\"dtype\":\"f8\",\"bdata\":\"AwAAIIcWHkD\\u002f\\u002f\\u002f+\\u002fcugbQAEAAECNlxpABQAAgD2KGkD+\\u002f\\u002f8\\u002fCKwYQAIAAKAc2hdABQAAgBSuF0D7\\u002f\\u002f+f7XwXQAIAAKAcWhdA\\u002ff\\u002f\\u002ff8BKF0D\\u002f\\u002f\\u002f9fukkXQAQAAKAYhBZA\\u002ff\\u002f\\u002f31G4FUD7\\u002f\\u002f+fxksVQAIAAGBm5hRAAwAAIK7HFED8\\u002f\\u002f+\\u002fn5oUQPv\\u002f\\u002f3\\u002fr0RNA\\u002fv\\u002f\\u002fn5kZE0D7\\u002f\\u002f\\u002ffo\\u002fASQAMAACCuxxJA\\u002ff\\u002f\\u002fn5vEEkD8\\u002f\\u002f\\u002f\\u002fVQ4SQPv\\u002f\\u002f5\\u002ft\\u002fBFAAQAAYI9CEUD8\\u002f\\u002f\\u002f\\u002fVY4QQP7\\u002f\\u002fz\\u002fhehBACAAAwHa+DED7\\u002f\\u002f9\\u002fwvULQAgAAIDAygpA9\\u002f\\u002f\\u002fn0OLBUA=\"},\"type\":\"scatter3d\"}],                        {\"height\":600,\"scene\":{\"xaxis\":{\"title\":{\"text\":\"\\u7ecf\\u6d4e\\u6307\\u6807 (GDP per Capita)\"}},\"yaxis\":{\"title\":{\"text\":\"\\u81ea\\u7531\\u5ea6 (Freedom)\"}},\"zaxis\":{\"title\":{\"text\":\"\\u5e78\\u798f\\u6307\\u6570 (Happiness Score)\"}}},\"template\":{\"data\":{\"barpolar\":[{\"marker\":{\"line\":{\"color\":\"#E5ECF6\",\"width\":0.5},\"pattern\":{\"fillmode\":\"overlay\",\"size\":10,\"solidity\":0.2}},\"type\":\"barpolar\"}],\"bar\":[{\"error_x\":{\"color\":\"#2a3f5f\"},\"error_y\":{\"color\":\"#2a3f5f\"},\"marker\":{\"line\":{\"color\":\"#E5ECF6\",\"width\":0.5},\"pattern\":{\"fillmode\":\"overlay\",\"size\":10,\"solidity\":0.2}},\"type\":\"bar\"}],\"carpet\":[{\"aaxis\":{\"endlinecolor\":\"#2a3f5f\",\"gridcolor\":\"white\",\"linecolor\":\"white\",\"minorgridcolor\":\"white\",\"startlinecolor\":\"#2a3f5f\"},\"baxis\":{\"endlinecolor\":\"#2a3f5f\",\"gridcolor\":\"white\",\"linecolor\":\"white\",\"minorgridcolor\":\"white\",\"startlinecolor\":\"#2a3f5f\"},\"type\":\"carpet\"}],\"choropleth\":[{\"colorbar\":{\"outlinewidth\":0,\"ticks\":\"\"},\"type\":\"choropleth\"}],\"contourcarpet\":[{\"colorbar\":{\"outlinewidth\":0,\"ticks\":\"\"},\"type\":\"contourcarpet\"}],\"contour\":[{\"colorbar\":{\"outlinewidth\":0,\"ticks\":\"\"},\"colorscale\":[[0.0,\"#0d0887\"],[0.1111111111111111,\"#46039f\"],[0.2222222222222222,\"#7201a8\"],[0.3333333333333333,\"#9c179e\"],[0.4444444444444444,\"#bd3786\"],[0.5555555555555556,\"#d8576b\"],[0.6666666666666666,\"#ed7953\"],[0.7777777777777778,\"#fb9f3a\"],[0.8888888888888888,\"#fdca26\"],[1.0,\"#f0f921\"]],\"type\":\"contour\"}],\"heatmap\":[{\"colorbar\":{\"outlinewidth\":0,\"ticks\":\"\"},\"colorscale\":[[0.0,\"#0d0887\"],[0.1111111111111111,\"#46039f\"],[0.2222222222222222,\"#7201a8\"],[0.3333333333333333,\"#9c179e\"],[0.4444444444444444,\"#bd3786\"],[0.5555555555555556,\"#d8576b\"],[0.6666666666666666,\"#ed7953\"],[0.7777777777777778,\"#fb9f3a\"],[0.8888888888888888,\"#fdca26\"],[1.0,\"#f0f921\"]],\"type\":\"heatmap\"}],\"histogram2dcontour\":[{\"colorbar\":{\"outlinewidth\":0,\"ticks\":\"\"},\"colorscale\":[[0.0,\"#0d0887\"],[0.1111111111111111,\"#46039f\"],[0.2222222222222222,\"#7201a8\"],[0.3333333333333333,\"#9c179e\"],[0.4444444444444444,\"#bd3786\"],[0.5555555555555556,\"#d8576b\"],[0.6666666666666666,\"#ed7953\"],[0.7777777777777778,\"#fb9f3a\"],[0.8888888888888888,\"#fdca26\"],[1.0,\"#f0f921\"]],\"type\":\"histogram2dcontour\"}],\"histogram2d\":[{\"colorbar\":{\"outlinewidth\":0,\"ticks\":\"\"},\"colorscale\":[[0.0,\"#0d0887\"],[0.1111111111111111,\"#46039f\"],[0.2222222222222222,\"#7201a8\"],[0.3333333333333333,\"#9c179e\"],[0.4444444444444444,\"#bd3786\"],[0.5555555555555556,\"#d8576b\"],[0.6666666666666666,\"#ed7953\"],[0.7777777777777778,\"#fb9f3a\"],[0.8888888888888888,\"#fdca26\"],[1.0,\"#f0f921\"]],\"type\":\"histogram2d\"}],\"histogram\":[{\"marker\":{\"pattern\":{\"fillmode\":\"overlay\",\"size\":10,\"solidity\":0.2}},\"type\":\"histogram\"}],\"mesh3d\":[{\"colorbar\":{\"outlinewidth\":0,\"ticks\":\"\"},\"type\":\"mesh3d\"}],\"parcoords\":[{\"line\":{\"colorbar\":{\"outlinewidth\":0,\"ticks\":\"\"}},\"type\":\"parcoords\"}],\"pie\":[{\"automargin\":true,\"type\":\"pie\"}],\"scatter3d\":[{\"line\":{\"colorbar\":{\"outlinewidth\":0,\"ticks\":\"\"}},\"marker\":{\"colorbar\":{\"outlinewidth\":0,\"ticks\":\"\"}},\"type\":\"scatter3d\"}],\"scattercarpet\":[{\"marker\":{\"colorbar\":{\"outlinewidth\":0,\"ticks\":\"\"}},\"type\":\"scattercarpet\"}],\"scattergeo\":[{\"marker\":{\"colorbar\":{\"outlinewidth\":0,\"ticks\":\"\"}},\"type\":\"scattergeo\"}],\"scattergl\":[{\"marker\":{\"colorbar\":{\"outlinewidth\":0,\"ticks\":\"\"}},\"type\":\"scattergl\"}],\"scattermapbox\":[{\"marker\":{\"colorbar\":{\"outlinewidth\":0,\"ticks\":\"\"}},\"type\":\"scattermapbox\"}],\"scattermap\":[{\"marker\":{\"colorbar\":{\"outlinewidth\":0,\"ticks\":\"\"}},\"type\":\"scattermap\"}],\"scatterpolargl\":[{\"marker\":{\"colorbar\":{\"outlinewidth\":0,\"ticks\":\"\"}},\"type\":\"scatterpolargl\"}],\"scatterpolar\":[{\"marker\":{\"colorbar\":{\"outlinewidth\":0,\"ticks\":\"\"}},\"type\":\"scatterpolar\"}],\"scatter\":[{\"fillpattern\":{\"fillmode\":\"overlay\",\"size\":10,\"solidity\":0.2},\"type\":\"scatter\"}],\"scatterternary\":[{\"marker\":{\"colorbar\":{\"outlinewidth\":0,\"ticks\":\"\"}},\"type\":\"scatterternary\"}],\"surface\":[{\"colorbar\":{\"outlinewidth\":0,\"ticks\":\"\"},\"colorscale\":[[0.0,\"#0d0887\"],[0.1111111111111111,\"#46039f\"],[0.2222222222222222,\"#7201a8\"],[0.3333333333333333,\"#9c179e\"],[0.4444444444444444,\"#bd3786\"],[0.5555555555555556,\"#d8576b\"],[0.6666666666666666,\"#ed7953\"],[0.7777777777777778,\"#fb9f3a\"],[0.8888888888888888,\"#fdca26\"],[1.0,\"#f0f921\"]],\"type\":\"surface\"}],\"table\":[{\"cells\":{\"fill\":{\"color\":\"#EBF0F8\"},\"line\":{\"color\":\"white\"}},\"header\":{\"fill\":{\"color\":\"#C8D4E3\"},\"line\":{\"color\":\"white\"}},\"type\":\"table\"}]},\"layout\":{\"annotationdefaults\":{\"arrowcolor\":\"#2a3f5f\",\"arrowhead\":0,\"arrowwidth\":1},\"autotypenumbers\":\"strict\",\"coloraxis\":{\"colorbar\":{\"outlinewidth\":0,\"ticks\":\"\"}},\"colorscale\":{\"diverging\":[[0,\"#8e0152\"],[0.1,\"#c51b7d\"],[0.2,\"#de77ae\"],[0.3,\"#f1b6da\"],[0.4,\"#fde0ef\"],[0.5,\"#f7f7f7\"],[0.6,\"#e6f5d0\"],[0.7,\"#b8e186\"],[0.8,\"#7fbc41\"],[0.9,\"#4d9221\"],[1,\"#276419\"]],\"sequential\":[[0.0,\"#0d0887\"],[0.1111111111111111,\"#46039f\"],[0.2222222222222222,\"#7201a8\"],[0.3333333333333333,\"#9c179e\"],[0.4444444444444444,\"#bd3786\"],[0.5555555555555556,\"#d8576b\"],[0.6666666666666666,\"#ed7953\"],[0.7777777777777778,\"#fb9f3a\"],[0.8888888888888888,\"#fdca26\"],[1.0,\"#f0f921\"]],\"sequentialminus\":[[0.0,\"#0d0887\"],[0.1111111111111111,\"#46039f\"],[0.2222222222222222,\"#7201a8\"],[0.3333333333333333,\"#9c179e\"],[0.4444444444444444,\"#bd3786\"],[0.5555555555555556,\"#d8576b\"],[0.6666666666666666,\"#ed7953\"],[0.7777777777777778,\"#fb9f3a\"],[0.8888888888888888,\"#fdca26\"],[1.0,\"#f0f921\"]]},\"colorway\":[\"#636efa\",\"#EF553B\",\"#00cc96\",\"#ab63fa\",\"#FFA15A\",\"#19d3f3\",\"#FF6692\",\"#B6E880\",\"#FF97FF\",\"#FECB52\"],\"font\":{\"color\":\"#2a3f5f\"},\"geo\":{\"bgcolor\":\"white\",\"lakecolor\":\"white\",\"landcolor\":\"#E5ECF6\",\"showlakes\":true,\"showland\":true,\"subunitcolor\":\"white\"},\"hoverlabel\":{\"align\":\"left\"},\"hovermode\":\"closest\",\"mapbox\":{\"style\":\"light\"},\"paper_bgcolor\":\"white\",\"plot_bgcolor\":\"#E5ECF6\",\"polar\":{\"angularaxis\":{\"gridcolor\":\"white\",\"linecolor\":\"white\",\"ticks\":\"\"},\"bgcolor\":\"#E5ECF6\",\"radialaxis\":{\"gridcolor\":\"white\",\"linecolor\":\"white\",\"ticks\":\"\"}},\"scene\":{\"xaxis\":{\"backgroundcolor\":\"#E5ECF6\",\"gridcolor\":\"white\",\"gridwidth\":2,\"linecolor\":\"white\",\"showbackground\":true,\"ticks\":\"\",\"zerolinecolor\":\"white\"},\"yaxis\":{\"backgroundcolor\":\"#E5ECF6\",\"gridcolor\":\"white\",\"gridwidth\":2,\"linecolor\":\"white\",\"showbackground\":true,\"ticks\":\"\",\"zerolinecolor\":\"white\"},\"zaxis\":{\"backgroundcolor\":\"#E5ECF6\",\"gridcolor\":\"white\",\"gridwidth\":2,\"linecolor\":\"white\",\"showbackground\":true,\"ticks\":\"\",\"zerolinecolor\":\"white\"}},\"shapedefaults\":{\"line\":{\"color\":\"#2a3f5f\"}},\"ternary\":{\"aaxis\":{\"gridcolor\":\"white\",\"linecolor\":\"white\",\"ticks\":\"\"},\"baxis\":{\"gridcolor\":\"white\",\"linecolor\":\"white\",\"ticks\":\"\"},\"bgcolor\":\"#E5ECF6\",\"caxis\":{\"gridcolor\":\"white\",\"linecolor\":\"white\",\"ticks\":\"\"}},\"title\":{\"x\":0.05},\"xaxis\":{\"automargin\":true,\"gridcolor\":\"white\",\"linecolor\":\"white\",\"ticks\":\"\",\"title\":{\"standoff\":15},\"zerolinecolor\":\"white\",\"zerolinewidth\":2},\"yaxis\":{\"automargin\":true,\"gridcolor\":\"white\",\"linecolor\":\"white\",\"ticks\":\"\",\"title\":{\"standoff\":15},\"zerolinecolor\":\"white\",\"zerolinewidth\":2}}},\"title\":{\"text\":\"\\ud83c\\udf0d \\u591a\\u5143\\u7ebf\\u6027\\u56de\\u5f52\\uff1a\\u7ecf\\u6d4e\\u6307\\u6807 vs \\u81ea\\u7531\\u5ea6 vs \\u5e78\\u798f\\u6307\\u6570\"},\"width\":800},                        {\"responsive\": true}                    ).then(function(){\n",
       "                            \n",
       "var gd = document.getElementById('b21f2c2a-6116-4ec7-87bc-b0a7d96df484');\n",
       "var x = new MutationObserver(function (mutations, observer) {{\n",
       "        var display = window.getComputedStyle(gd).display;\n",
       "        if (!display || display === 'none') {{\n",
       "            console.log([gd, 'removed!']);\n",
       "            Plotly.purge(gd);\n",
       "            observer.disconnect();\n",
       "        }}\n",
       "}});\n",
       "\n",
       "// Listen for the removal of the full notebook cells\n",
       "var notebookContainer = gd.closest('#notebook-container');\n",
       "if (notebookContainer) {{\n",
       "    x.observe(notebookContainer, {childList: true});\n",
       "}}\n",
       "\n",
       "// Listen for the clearing of the current output cell\n",
       "var outputEl = gd.closest('.output');\n",
       "if (outputEl) {{\n",
       "    x.observe(outputEl, {childList: true});\n",
       "}}\n",
       "\n",
       "                        })                };            </script>        </div>"
      ]
     },
     "metadata": {},
     "output_type": "display_data"
    },
    {
     "name": "stdout",
     "output_type": "stream",
     "text": [
      "🎨 3D可视化说明：\n",
      "  • 蓝色点：训练数据\n",
      "  • 红色点：测试数据\n",
      "  • 可以旋转图表来观察不同角度的数据分布\n",
      "  • 注意观察数据点是否呈现某种规律性分布\n"
     ]
    }
   ],
   "source": [
    "# 创建3D散点图\n",
    "def create_3d_scatter():\n",
    "    # 训练数据点\n",
    "    plot_training_trace = go.Scatter3d(\n",
    "        x=x_train[:, 0].flatten(),\n",
    "        y=x_train[:, 1].flatten(),\n",
    "        z=y_train.flatten(),\n",
    "        name='训练数据',\n",
    "        mode='markers',\n",
    "        marker=dict(\n",
    "            size=8,\n",
    "            color='blue',\n",
    "            opacity=0.8,\n",
    "            line=dict(\n",
    "                color='darkblue',\n",
    "                width=1\n",
    "            )\n",
    "        )\n",
    "    )\n",
    "    \n",
    "    # 测试数据点\n",
    "    plot_test_trace = go.Scatter3d(\n",
    "        x=x_test[:, 0].flatten(),\n",
    "        y=x_test[:, 1].flatten(),\n",
    "        z=y_test.flatten(),\n",
    "        name='测试数据',\n",
    "        mode='markers',\n",
    "        marker=dict(\n",
    "            size=10,\n",
    "            color='red',\n",
    "            opacity=0.9,\n",
    "            line=dict(\n",
    "                color='darkred',\n",
    "                width=2\n",
    "            )\n",
    "        )\n",
    "    )\n",
    "    \n",
    "    # 图表布局\n",
    "    plot_layout = go.Layout(\n",
    "        title='🌍 多元线性回归：经济指标 vs 自由度 vs 幸福指数',\n",
    "        scene=dict(\n",
    "            xaxis=dict(title='经济指标 (GDP per Capita)'),\n",
    "            yaxis=dict(title='自由度 (Freedom)'),\n",
    "            zaxis=dict(title='幸福指数 (Happiness Score)')\n",
    "        ),\n",
    "        width=800,\n",
    "        height=600\n",
    "    )\n",
    "    \n",
    "    plot_data = [plot_training_trace, plot_test_trace]\n",
    "    fig = go.Figure(data=plot_data, layout=plot_layout)\n",
    "    \n",
    "    return fig\n",
    "\n",
    "# 显示3D图\n",
    "fig_3d = create_3d_scatter()\n",
    "pyo.iplot(fig_3d)\n",
    "\n",
    "print(\"🎨 3D可视化说明：\")\n",
    "print(\"  • 蓝色点：训练数据\")\n",
    "print(\"  • 红色点：测试数据\")\n",
    "print(\"  • 可以旋转图表来观察不同角度的数据分布\")\n",
    "print(\"  • 注意观察数据点是否呈现某种规律性分布\")"
   ]
  },
  {
   "cell_type": "markdown",
   "metadata": {},
   "source": [
    "## 🤖 第四部分：多元线性回归模型训练\n",
    "\n",
    "现在我们要训练一个多元线性回归模型。与单变量不同，这次我们的模型将学习一个**平面**而不是直线来拟合数据！"
   ]
  },
  {
   "cell_type": "code",
   "execution_count": 9,
   "metadata": {},
   "outputs": [
    {
     "name": "stdout",
     "output_type": "stream",
     "text": [
      "🚀 开始训练多元线性回归模型...\n",
      "训练参数设置：\n",
      "  • 迭代次数: 500\n",
      "  • 学习率: 0.01\n",
      "  • 特征数量: 2\n",
      "  • 训练样本: 124\n",
      "\n",
      "✅ 训练完成！\n",
      "初始损失: 14.941046\n",
      "最终损失: 0.163437\n",
      "损失降低: 98.91%\n",
      "\n",
      "🧠 模型学到的参数：\n",
      "  θ₀ (截距): 5.3690\n",
      "  θ₁ (经济系数): 0.7763\n",
      "  θ₂ (自由度系数): 0.3491\n",
      "\n",
      "📐 多元线性回归方程：\n",
      "幸福指数 = 5.3690 + 0.7763 × 经济指标 + 0.3491 × 自由度\n"
     ]
    }
   ],
   "source": [
    "# 设置训练参数\n",
    "num_iterations = 500\n",
    "learning_rate = 0.01\n",
    "polynomial_degree = 0  # 不使用多项式特征\n",
    "sinusoid_degree = 0    # 不使用正弦特征\n",
    "\n",
    "print(\"🚀 开始训练多元线性回归模型...\")\n",
    "print(f\"训练参数设置：\")\n",
    "print(f\"  • 迭代次数: {num_iterations}\")\n",
    "print(f\"  • 学习率: {learning_rate}\")\n",
    "print(f\"  • 特征数量: {x_train.shape[1]}\")\n",
    "print(f\"  • 训练样本: {x_train.shape[0]}\")\n",
    "\n",
    "# 创建并训练模型\n",
    "linear_regression = LinearRegression(\n",
    "    x_train, \n",
    "    y_train, \n",
    "    polynomial_degree, \n",
    "    sinusoid_degree\n",
    ")\n",
    "\n",
    "# 开始训练\n",
    "(theta, cost_history) = linear_regression.train(\n",
    "    learning_rate,\n",
    "    num_iterations\n",
    ")\n",
    "\n",
    "print(f\"\\n✅ 训练完成！\")\n",
    "print(f\"初始损失: {cost_history[0]:.6f}\")\n",
    "print(f\"最终损失: {cost_history[-1]:.6f}\")\n",
    "print(f\"损失降低: {((cost_history[0] - cost_history[-1]) / cost_history[0] * 100):.2f}%\")\n",
    "\n",
    "# 显示学到的参数\n",
    "print(f\"\\n🧠 模型学到的参数：\")\n",
    "print(f\"  θ₀ (截距): {theta[0][0]:.4f}\")\n",
    "print(f\"  θ₁ (经济系数): {theta[1][0]:.4f}\")\n",
    "print(f\"  θ₂ (自由度系数): {theta[2][0]:.4f}\")\n",
    "\n",
    "print(f\"\\n📐 多元线性回归方程：\")\n",
    "print(f\"幸福指数 = {theta[0][0]:.4f} + {theta[1][0]:.4f} × 经济指标 + {theta[2][0]:.4f} × 自由度\")"
   ]
  },
  {
   "cell_type": "markdown",
   "metadata": {},
   "source": [
    "## 📈 第五部分：训练过程可视化"
   ]
  },
  {
   "cell_type": "code",
   "execution_count": 11,
   "metadata": {},
   "outputs": [
    {
     "data": {
      "image/png": "[encoded data removed]",
      "text/plain": [
       "<Figure size 1200x500 with 2 Axes>"
      ]
     },
     "metadata": {},
     "output_type": "display_data"
    },
    {
     "name": "stdout",
     "output_type": "stream",
     "text": [
      "📊 图表解读：\n",
      "  • 左图：损失函数持续下降，说明模型在不断学习\n",
      "  • 右图：显示各参数的相对重要性\n",
      "  • 经济指标对幸福指数的影响更大\n"
     ]
    }
   ],
   "source": [
    "# 可视化训练过程\n",
    "plt.figure(figsize=(12, 5))\n",
    "\n",
    "# 左图：损失函数变化\n",
    "plt.subplot(1, 2, 1)\n",
    "plt.plot(range(num_iterations), cost_history, 'b-', linewidth=2, alpha=0.8)\n",
    "plt.xlabel('Iterations', fontsize=12)\n",
    "plt.ylabel('Cost', fontsize=12)\n",
    "plt.title('Multiple Regression Training: Cost Function', fontsize=13, fontweight='bold')\n",
    "plt.grid(True, alpha=0.3)\n",
    "\n",
    "# 添加关键点标注\n",
    "plt.annotate(f'Start: {cost_history[0]:.4f}', \n",
    "             xy=(0, cost_history[0]), xytext=(50, cost_history[0]*0.8),\n",
    "             arrowprops=dict(arrowstyle='->', color='red', alpha=0.7),\n",
    "             fontsize=10, color='red')\n",
    "plt.annotate(f'End: {cost_history[-1]:.4f}', \n",
    "             xy=(num_iterations-1, cost_history[-1]), xytext=(num_iterations-100, cost_history[-1]*1.2),\n",
    "             arrowprops=dict(arrowstyle='->', color='green', alpha=0.7),\n",
    "             fontsize=10, color='green')\n",
    "\n",
    "# 右图：参数变化（如果我们记录了参数历史）\n",
    "plt.subplot(1, 2, 2)\n",
    "# 创建一个简单的参数重要性图\n",
    "params = ['Intercept', 'Economic Coef', 'Freedom Coef']\n",
    "values = [abs(theta[0][0]), abs(theta[1][0]), abs(theta[2][0])]\n",
    "colors = ['gray', 'blue', 'orange']\n",
    "\n",
    "bars = plt.bar(params, values, color=colors, alpha=0.7)\n",
    "plt.ylabel('Parameter Absolute Value', fontsize=12)\n",
    "plt.title('Model Parameter Importance', fontsize=13, fontweight='bold')\n",
    "plt.xticks(rotation=45)\n",
    "\n",
    "# 在柱状图上添加数值标签\n",
    "for bar, value in zip(bars, values):\n",
    "    plt.text(bar.get_x() + bar.get_width()/2, bar.get_height() + 0.01,\n",
    "             f'{value:.3f}', ha='center', va='bottom', fontsize=10)\n",
    "\n",
    "plt.tight_layout()\n",
    "plt.show()\n",
    "\n",
    "\n",
    "print(\"📊 图表解读：\")\n",
    "print(\"  • 左图：损失函数持续下降，说明模型在不断学习\")\n",
    "print(\"  • 右图：显示各参数的相对重要性\")\n",
    "if abs(theta[1][0]) > abs(theta[2][0]):\n",
    "    print(\"  • 经济指标对幸福指数的影响更大\")\n",
    "else:\n",
    "    print(\"  • 自由度对幸福指数的影响更大\")"
   ]
  },
  {
   "cell_type": "markdown",
   "metadata": {},
   "source": [
    "## 🎯 第六部分：模型预测与3D平面可视化\n",
    "\n",
    "现在让我们看看模型学到的预测平面！在3D空间中，多元线性回归会拟合一个平面来最好地描述数据。"
   ]
  },
  {
   "cell_type": "code",
   "execution_count": 12,
   "metadata": {},
   "outputs": [
    {
     "name": "stdout",
     "output_type": "stream",
     "text": [
      "📏 特征范围：\n",
      "  经济指标范围: [0.092, 1.871]\n",
      "  自由度范围: [0.000, 0.658]\n",
      "\n",
      "🔮 生成了 225 个预测点来构建预测平面\n"
     ]
    }
   ],
   "source": [
    "# 生成预测平面的数据点\n",
    "predictions_num = 15  # 每个维度的点数\n",
    "\n",
    "# 获取特征的范围\n",
    "x_min, x_max = x_train[:, 0].min(), x_train[:, 0].max()\n",
    "y_min, y_max = x_train[:, 1].min(), x_train[:, 1].max()\n",
    "\n",
    "print(f\"📏 特征范围：\")\n",
    "print(f\"  经济指标范围: [{x_min:.3f}, {x_max:.3f}]\")\n",
    "print(f\"  自由度范围: [{y_min:.3f}, {y_max:.3f}]\")\n",
    "\n",
    "# 创建网格点\n",
    "x_axis = np.linspace(x_min, x_max, predictions_num)\n",
    "y_axis = np.linspace(y_min, y_max, predictions_num)\n",
    "\n",
    "# 生成所有组合的预测点\n",
    "x_predictions = []\n",
    "y_predictions = []\n",
    "\n",
    "for x_value in x_axis:\n",
    "    for y_value in y_axis:\n",
    "        x_predictions.append(x_value)\n",
    "        y_predictions.append(y_value)\n",
    "\n",
    "# 转换为numpy数组\n",
    "x_predictions = np.array(x_predictions).reshape(-1, 1)\n",
    "y_predictions = np.array(y_predictions).reshape(-1, 1)\n",
    "\n",
    "# 组合特征进行预测\n",
    "prediction_features = np.hstack((x_predictions, y_predictions))\n",
    "z_predictions = linear_regression.predict(prediction_features)\n",
    "\n",
    "print(f\"\\n🔮 生成了 {len(z_predictions)} 个预测点来构建预测平面\")"
   ]
  },
  {
   "cell_type": "code",
   "execution_count": 13,
   "metadata": {},
   "outputs": [
    {
     "data": {
      "application/vnd.plotly.v1+json": {
       "config": {
        "linkText": "Export to plot.ly",
        "plotlyServerURL": "https://plot.ly",
        "showLink": false
       },
       "data": [
        {
         "marker": {
          "color": "blue",
          "opacity": 0.8,
          "size": 8
         },
         "mode": "markers",
         "name": "训练数据",
         "type": "scatter3d",
         "x": {
          "bdata": "////3w0O8j/8//8/55bbPwIAACDAC/I/+////2698z8DAADgAbbVPw0AAODyjPU//P//H8g76T8OAADghXm+PwIAAKCTdLc/BgAAwCEs8z8DAACA9JfnP/7//780rOA/+v//f3RM8T8AAACAWJ7tPwcAAMCIzvc/DwAA4GcL9D/1////D+X2PwMAAODaYOc//v//f94r8z/3//+f3g3YP/f//7/uEPc/+f//fybL9z8CAADgKcD3P+z//99wc/I/AAAAgFjX7T////8f/aDsP////z90yuA/AAAAwCmr9D8HAACgvaH0PwMAACAndfI/CQAAwL153j8DAADAVFXsP/z//38pwOQ/DQAAACXw8T8CAABgG8biP+7//19SIvU/8v//f4cI9T/4////En71PwIAAIAhatY/DgAAIJeP8z8MAAAgonvzP/3//x9vffg//f//P2tr7j8AAABAlqT1P/7//3/oUuc/7v//fx1F8T/5//9fW8HxP/////8Y9PE/+///f0KB8j/5//+fWCjwPxQAAOAfe/M//v//P6FC5z8IAACAT5fXPw0AAIDRqPQ/BAAA4N4Y9z8QAABgIvD2PwgAACD4ucQ/9///n16S0z/w//8//KDxPxMAAGCla/c/AgAAAAnj6T8FAAAAkQH2PwEAAEC9ftc/////f4Vs2T////+/wh3wPwIAAIAI3fk/AQAAYKXc7j/6//8f7LH1PwEAAGD0HO0/AAAAIDwU4z8DAACgcOfrPxEAAGCJ0Pc//v//H1aV8j8RAADAkRP7PwwAAGD49vI/AQAAoM/g7z/z///fzzT1P/3//z9w3ug/AAAAwF+13j8AAABgiJnXP/n//59nCNw/9P//XzFS9j8AAACgcu/hPw8AAGCUdfU//v//n1+27z8TAABgfib2Pw4AAIBpTc8/AgAAAAWUtz8AAABgSJDwPwgAAGA1lNc/AwAAAIgU6T8TAADABiz0PxUAAEAoEPg/AwAAQC1M4z/8//+//6zeP/z//z8iDu0/9f//30Qh8T8AAADAc9vvP/3//1+Pcu4/EQAAAKju/T/9//9/hirpPwEAAKDFffY/BwAAQFwD8D/0////qNP4PwYAAEC6/c0/AQAA4III8T/+//+/gxnsPwEAAGA+eOs/+f//f82x2T8BAADg5W/vP/3//58C6fc/////X3q9+D/8///fio30PwkAAGBcadg/EQAAACgK+T8EAABAAN/7P/T//7+SIPo/BAAAwOwb8T/5//+/beHNP+z//z/Sqvc/BAAA4KhB4z8KAADAC+DwP/z//z+ssPc//f//P7DR7D8=",
          "dtype": "f8"
         },
         "y": {
          "bdata": "EAAAgC22wz/4//9f+ULbPwAAACABkeI/AQAA4NGZ4T8FAADAeiraPwEAAEAzKN4/AgAAYBZG4j8GAADg7E3VPwUAAMBPq64//f//f1U/0z/4//9/sKTcP/z//z+YANk//v//XydC3j8IAADADFveP////98XAOI/9///Xw0f2D8HAACAHhjePwUAAMDwRtY/AAAAADH90z/9//+fUYfVP/3//78XQ+A//f///yMr4j8BAAAgXkDjPwQAACArato/BwAAoPNN3j8fAABgRnu/P/z//x8mLt4//P//f6Sm4D8BAADg14G4PwIAAKBie9k/+///P4+f0z8EAADAmAzgP/3//5/hmbg/9P//v2b1yD////8/ZZ3ePwEAAOAWqt4/AwAAoE77zT/9////LdfiPwYAAGBxwtQ//f//v5Je0D/9//+fjD/dP/j//5+2yNw/AAAAwF/N0z8FAACAqWvfP/r//5810M4/AwAA4NCu4T/9//8/cJDiPwQAAICRKuA/+///f9bn0j8BAACAdfXhPwQAAKBhiuI/BAAAoIgbzj/0//+fRhmfP/r//5+1vtk//P//30DG4z/8//+/RCLXP/3//x8vRtc//v//f5k3yD/9//+/ks7dP/7//z/NReE/+v//v3bX2z8JAACgt/vZP/3///+3duA/AgAAIPHSwj8BAADgIIrSP/3//79hVeQ/AgAAoFOm4D/+//+/JbrWPwAAAGBNrds//P//38od3T8EAAAgfwDhPwEAAOAHLeE/+v//v8WC0j8CAABAS5jhPwIAAOAzpt8/////P3lq2D8HAABgrO7SPwMAAODE37Q/+/////gt3D/+////dp7iPxAAAKCfx8Q/BgAAQLBp0D8FAADgFPrcP////3+KUuI//P//f2nH2j8JAADAeCnaPwUAAABCT9Y/DQAAQPszzj8GAADg2MzcP/7///+KZdQ/AwAAIOdG2T/6////ZdjUPwEAAEB4u+I/+///3zen3D/4///f4C/YP/z//18yheE//v//XyeP3j8DAABgaV/cPwUAAMCOqNA/////fwpV4z/8//9/XxDlP/z//59lpuM/AAAAoPch3T////+/B2zfP/r///9Hxd4/AAAAwKTb1D/7//8fRB/aPwAAAAAAAAAA6P//v5Quuz8MAAAg4inKPwEAAAATneM/AQAAwAYv4D/7//8/QP/bPwAAAKAoXdw/AwAAQJ7X4z/+//9fkxfjP/7//7/+w98/DgAAwDC3yj/9////7eHdP/7//38jjuM//v//X51E5D8BAACA+qveP/z//1+3EeQ/DwAAYABiyT8=",
          "dtype": "f8"
         },
         "z": {
          "bdata": "AAAAAAAAFUD4//8/iUENQPz///8sshlAAQAAINnOGUD9//8/CtcRQP///59wPRdA+///n8ZLFEAKAACAlUMMQP///59wPQdAAAAAAAAAFkABAABAtEgYQAcAAMDIdg5AAQAAQI0XFUD9//+/dj4VQAQAAADTzRtABQAA4KWbGkD9//+fm8QZQPz//x9YuRRA/////yjcEUAAAAAAAAAPQAEAAOAi2xpAAAAA4CQGHEADAADg0CIdQP///z/fTxpAAgAAANX4FUD////fTWIQQAEAAOD7KRRA+///H1rkF0D///+/cugUQP3//7+d7xRAAQAAYI/CEEACAACgQwsUQP////8BKxFAAgAAILDyFED+//9/l24SQAQAAACqcRZABQAA4KWbF0AFAADgpRsaQPz//5/EIBBA/v//PwgsFUAEAADAzEwXQAIAAIBBYBlA////H90kEUD9//+/nW8aQAIAAKAcWhdABAAAIIXrFED9//9f5VAcQAcAAKDEIA5ABAAA4KdGFkABAABgj8IRQP3//1/l0BlA/v//v3QTFUD5//+f8dIMQP///x8EVhhAAgAAgEHgHUABAADAILAZQAMAAACsHBBA/P//f+kmDUD+//+fmRkWQAMAAEBikBtAAQAA4PspEUACAACgHNocQAUAAIAULhJA+v//P166DED9///fUTgTQP7//1/jJR5A+///n8ZLEkD8//9f53sWQAUAAGASAxhABAAAoBgEFED9//9f5dAZQAQAAIAWWRhAAQAA4CLbEkD///9fukkaQAQAAEBgZRpA/v//v3STEkD7//8fWmQYQAgAAAAtsgtABAAAgBbZE0D9//+fm8QLQPv//5/tfA9AAQAA4CLbF0ABAACgRTYSQPz//x8xCBdA+///XxBYFUADAAAArJwZQPz///9VDgxAAAAAYLgeEUD/////KNwWQP///x8E1hJA+///n8ZLFEACAABgZmYXQPz//z8Mgh1A/f//31G4EEABAAAA1yMSQAQAAKDx0hdAAAAAYJFtGUAAAADASQwVQAEAACCyHRVAAAAAAACAGUD////fTeIXQAMAAECJQR1A/P//HzEIGED9////U+MVQPz//z8zMxJA/P//PzOzFED7///fo/AUQAsAAAApXA5A9v//nxxaDkAFAABAXroUQAMAAODQIh1AAgAAANX4G0AEAADgp0YXQAQAAKDxUhBAAAAAINv5HUAAAABAtnMbQAQAACCFaxhA/P//33qUFUABAABgj8IPQP///3+VQx1A/v//PwisEED9//9f5VATQAQAAKAYBB5A/v//HwaBEUA=",
          "dtype": "f8"
         }
        },
        {
         "marker": {
          "color": "red",
          "opacity": 0.9,
          "size": 10
         },
         "mode": "markers",
         "name": "测试数据",
         "type": "scatter3d",
         "x": {
          "bdata": "EAAAQNe39z8SAAAgQZL4PwoAAKCABfo/BgAAALi38T8VAAAgHcj1PwAAAMApgvQ/////P6+r9j8VAADgRnjxPw0AAGBGbfY//P//PyKu6j/6//9fqRfyPw4AAKDDB/M/AQAAoEVy6z8UAABAgZP0P/P//x8mM/E/BgAAQPUK9T////9fxi+XPxAAAOCOb/A/AwAAgIPr5j8BAAAgo6vvPwIAACDKDuI/9///X42C8j8EAADAcV3kP+7//7+zpPE/AgAAYOBZ6T////+/whrlP/3//9/nWeU//P//HxLv4j8IAAAAaIzTP/z//585W+A/AAAAAAAAAAA=",
          "dtype": "f8"
         },
         "y": {
          "bdata": "/f//Pz8I5D8BAACA61biP/3//3+Qd+M/+////z3/2z/8//9/n5jgPwcAAAAQ7Nc/////nxUu4D/3//+f8t3NP/7//9/JgdA/BAAA4CPh4T8AAACg98TaP/n//5+YcN8/AQAAIBS64j/4//8fsoLGP/j//78Ld9I//P///9rm3z8AAADAn0TjPwIAAKCnOdk/BQAAoC9N0D8GAADAFw7SP/j//z99i9s/BAAAoM3pzz8DAABg6YrdPwIAAKCxd9I/////X0QU3j/s//+fJbaOP////9/cEts/DgAAYG3uzz/////f5ljYPwUAACAN9tg/AAAA4HlV0T8=",
          "dtype": "f8"
         },
         "z": {
          "bdata": "AwAAIIcWHkD///+/cugbQAEAAECNlxpABQAAgD2KGkD+//8/CKwYQAIAAKAc2hdABQAAgBSuF0D7//+f7XwXQAIAAKAcWhdA/f//f8BKF0D///9fukkXQAQAAKAYhBZA/f//31G4FUD7//+fxksVQAIAAGBm5hRAAwAAIK7HFED8//+/n5oUQPv//3/r0RNA/v//n5kZE0D7///fo/ASQAMAACCuxxJA/f//n5vEEkD8////VQ4SQPv//5/t/BFAAQAAYI9CEUD8////VY4QQP7//z/hehBACAAAwHa+DED7//9/wvULQAgAAIDAygpA9///n0OLBUA=",
          "dtype": "f8"
         }
        },
        {
         "marker": {
          "color": "green",
          "opacity": 0.6,
          "size": 3
         },
         "mode": "markers",
         "name": "预测平面",
         "type": "scatter3d",
         "x": {
          "bdata": "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",
          "dtype": "f8"
         },
         "y": {
          "bdata": "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",
          "dtype": "f8"
         },
         "z": {
          "bdata": "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",
          "dtype": "f8"
         }
        }
       ],
       "layout": {
        "height": 700,
        "scene": {
         "xaxis": {
          "title": {
           "text": "经济指标 (GDP per Capita)"
          }
         },
         "yaxis": {
          "title": {
           "text": "自由度 (Freedom)"
          }
         },
         "zaxis": {
          "title": {
           "text": "幸福指数 (Happiness Score)"
          }
         }
        },
        "template": {
         "data": {
          "bar": [
           {
            "error_x": {
             "color": "#2a3f5f"
            },
            "error_y": {
             "color": "#2a3f5f"
            },
            "marker": {
             "line": {
              "color": "#E5ECF6",
              "width": 0.5
             },
             "pattern": {
              "fillmode": "overlay",
              "size": 10,
              "solidity": 0.2
             }
            },
            "type": "bar"
           }
          ],
          "barpolar": [
           {
            "marker": {
             "line": {
              "color": "#E5ECF6",
              "width": 0.5
             },
             "pattern": {
              "fillmode": "overlay",
              "size": 10,
              "solidity": 0.2
             }
            },
            "type": "barpolar"
           }
          ],
          "carpet": [
           {
            "aaxis": {
             "endlinecolor": "#2a3f5f",
             "gridcolor": "white",
             "linecolor": "white",
             "minorgridcolor": "white",
             "startlinecolor": "#2a3f5f"
            },
            "baxis": {
             "endlinecolor": "#2a3f5f",
             "gridcolor": "white",
             "linecolor": "white",
             "minorgridcolor": "white",
             "startlinecolor": "#2a3f5f"
            },
            "type": "carpet"
           }
          ],
          "choropleth": [
           {
            "colorbar": {
             "outlinewidth": 0,
             "ticks": ""
            },
            "type": "choropleth"
           }
          ],
          "contour": [
           {
            "colorbar": {
             "outlinewidth": 0,
             "ticks": ""
            },
            "colorscale": [
             [
              0,
              "#0d0887"
             ],
             [
              0.1111111111111111,
              "#46039f"
             ],
             [
              0.2222222222222222,
              "#7201a8"
             ],
             [
              0.3333333333333333,
              "#9c179e"
             ],
             [
              0.4444444444444444,
              "#bd3786"
             ],
             [
              0.5555555555555556,
              "#d8576b"
             ],
             [
              0.6666666666666666,
              "#ed7953"
             ],
             [
              0.7777777777777778,
              "#fb9f3a"
             ],
             [
              0.8888888888888888,
              "#fdca26"
             ],
             [
              1,
              "#f0f921"
             ]
            ],
            "type": "contour"
           }
          ],
          "contourcarpet": [
           {
            "colorbar": {
             "outlinewidth": 0,
             "ticks": ""
            },
            "type": "contourcarpet"
           }
          ],
          "heatmap": [
           {
            "colorbar": {
             "outlinewidth": 0,
             "ticks": ""
            },
            "colorscale": [
             [
              0,
              "#0d0887"
             ],
             [
              0.1111111111111111,
              "#46039f"
             ],
             [
              0.2222222222222222,
              "#7201a8"
             ],
             [
              0.3333333333333333,
              "#9c179e"
             ],
             [
              0.4444444444444444,
              "#bd3786"
             ],
             [
              0.5555555555555556,
              "#d8576b"
             ],
             [
              0.6666666666666666,
              "#ed7953"
             ],
             [
              0.7777777777777778,
              "#fb9f3a"
             ],
             [
              0.8888888888888888,
              "#fdca26"
             ],
             [
              1,
              "#f0f921"
             ]
            ],
            "type": "heatmap"
           }
          ],
          "histogram": [
           {
            "marker": {
             "pattern": {
              "fillmode": "overlay",
              "size": 10,
              "solidity": 0.2
             }
            },
            "type": "histogram"
           }
          ],
          "histogram2d": [
           {
            "colorbar": {
             "outlinewidth": 0,
             "ticks": ""
            },
            "colorscale": [
             [
              0,
              "#0d0887"
             ],
             [
              0.1111111111111111,
              "#46039f"
             ],
             [
              0.2222222222222222,
              "#7201a8"
             ],
             [
              0.3333333333333333,
              "#9c179e"
             ],
             [
              0.4444444444444444,
              "#bd3786"
             ],
             [
              0.5555555555555556,
              "#d8576b"
             ],
             [
              0.6666666666666666,
              "#ed7953"
             ],
             [
              0.7777777777777778,
              "#fb9f3a"
             ],
             [
              0.8888888888888888,
              "#fdca26"
             ],
             [
              1,
              "#f0f921"
             ]
            ],
            "type": "histogram2d"
           }
          ],
          "histogram2dcontour": [
           {
            "colorbar": {
             "outlinewidth": 0,
             "ticks": ""
            },
            "colorscale": [
             [
              0,
              "#0d0887"
             ],
             [
              0.1111111111111111,
              "#46039f"
             ],
             [
              0.2222222222222222,
              "#7201a8"
             ],
             [
              0.3333333333333333,
              "#9c179e"
             ],
             [
              0.4444444444444444,
              "#bd3786"
             ],
             [
              0.5555555555555556,
              "#d8576b"
             ],
             [
              0.6666666666666666,
              "#ed7953"
             ],
             [
              0.7777777777777778,
              "#fb9f3a"
             ],
             [
              0.8888888888888888,
              "#fdca26"
             ],
             [
              1,
              "#f0f921"
             ]
            ],
            "type": "histogram2dcontour"
           }
          ],
          "mesh3d": [
           {
            "colorbar": {
             "outlinewidth": 0,
             "ticks": ""
            },
            "type": "mesh3d"
           }
          ],
          "parcoords": [
           {
            "line": {
             "colorbar": {
              "outlinewidth": 0,
              "ticks": ""
             }
            },
            "type": "parcoords"
           }
          ],
          "pie": [
           {
            "automargin": true,
            "type": "pie"
           }
          ],
          "scatter": [
           {
            "fillpattern": {
             "fillmode": "overlay",
             "size": 10,
             "solidity": 0.2
            },
            "type": "scatter"
           }
          ],
          "scatter3d": [
           {
            "line": {
             "colorbar": {
              "outlinewidth": 0,
              "ticks": ""
             }
            },
            "marker": {
             "colorbar": {
              "outlinewidth": 0,
              "ticks": ""
             }
            },
            "type": "scatter3d"
           }
          ],
          "scattercarpet": [
           {
            "marker": {
             "colorbar": {
              "outlinewidth": 0,
              "ticks": ""
             }
            },
            "type": "scattercarpet"
           }
          ],
          "scattergeo": [
           {
            "marker": {
             "colorbar": {
              "outlinewidth": 0,
              "ticks": ""
             }
            },
            "type": "scattergeo"
           }
          ],
          "scattergl": [
           {
            "marker": {
             "colorbar": {
              "outlinewidth": 0,
              "ticks": ""
             }
            },
            "type": "scattergl"
           }
          ],
          "scattermap": [
           {
            "marker": {
             "colorbar": {
              "outlinewidth": 0,
              "ticks": ""
             }
            },
            "type": "scattermap"
           }
          ],
          "scattermapbox": [
           {
            "marker": {
             "colorbar": {
              "outlinewidth": 0,
              "ticks": ""
             }
            },
            "type": "scattermapbox"
           }
          ],
          "scatterpolar": [
           {
            "marker": {
             "colorbar": {
              "outlinewidth": 0,
              "ticks": ""
             }
            },
            "type": "scatterpolar"
           }
          ],
          "scatterpolargl": [
           {
            "marker": {
             "colorbar": {
              "outlinewidth": 0,
              "ticks": ""
             }
            },
            "type": "scatterpolargl"
           }
          ],
          "scatterternary": [
           {
            "marker": {
             "colorbar": {
              "outlinewidth": 0,
              "ticks": ""
             }
            },
            "type": "scatterternary"
           }
          ],
          "surface": [
           {
            "colorbar": {
             "outlinewidth": 0,
             "ticks": ""
            },
            "colorscale": [
             [
              0,
              "#0d0887"
             ],
             [
              0.1111111111111111,
              "#46039f"
             ],
             [
              0.2222222222222222,
              "#7201a8"
             ],
             [
              0.3333333333333333,
              "#9c179e"
             ],
             [
              0.4444444444444444,
              "#bd3786"
             ],
             [
              0.5555555555555556,
              "#d8576b"
             ],
             [
              0.6666666666666666,
              "#ed7953"
             ],
             [
              0.7777777777777778,
              "#fb9f3a"
             ],
             [
              0.8888888888888888,
              "#fdca26"
             ],
             [
              1,
              "#f0f921"
             ]
            ],
            "type": "surface"
           }
          ],
          "table": [
           {
            "cells": {
             "fill": {
              "color": "#EBF0F8"
             },
             "line": {
              "color": "white"
             }
            },
            "header": {
             "fill": {
              "color": "#C8D4E3"
             },
             "line": {
              "color": "white"
             }
            },
            "type": "table"
           }
          ]
         },
         "layout": {
          "annotationdefaults": {
           "arrowcolor": "#2a3f5f",
           "arrowhead": 0,
           "arrowwidth": 1
          },
          "autotypenumbers": "strict",
          "coloraxis": {
           "colorbar": {
            "outlinewidth": 0,
            "ticks": ""
           }
          },
          "colorscale": {
           "diverging": [
            [
             0,
             "#8e0152"
            ],
            [
             0.1,
             "#c51b7d"
            ],
            [
             0.2,
             "#de77ae"
            ],
            [
             0.3,
             "#f1b6da"
            ],
            [
             0.4,
             "#fde0ef"
            ],
            [
             0.5,
             "#f7f7f7"
            ],
            [
             0.6,
             "#e6f5d0"
            ],
            [
             0.7,
             "#b8e186"
            ],
            [
             0.8,
             "#7fbc41"
            ],
            [
             0.9,
             "#4d9221"
            ],
            [
             1,
             "#276419"
            ]
           ],
           "sequential": [
            [
             0,
             "#0d0887"
            ],
            [
             0.1111111111111111,
             "#46039f"
            ],
            [
             0.2222222222222222,
             "#7201a8"
            ],
            [
             0.3333333333333333,
             "#9c179e"
            ],
            [
             0.4444444444444444,
             "#bd3786"
            ],
            [
             0.5555555555555556,
             "#d8576b"
            ],
            [
             0.6666666666666666,
             "#ed7953"
            ],
            [
             0.7777777777777778,
             "#fb9f3a"
            ],
            [
             0.8888888888888888,
             "#fdca26"
            ],
            [
             1,
             "#f0f921"
            ]
           ],
           "sequentialminus": [
            [
             0,
             "#0d0887"
            ],
            [
             0.1111111111111111,
             "#46039f"
            ],
            [
             0.2222222222222222,
             "#7201a8"
            ],
            [
             0.3333333333333333,
             "#9c179e"
            ],
            [
             0.4444444444444444,
             "#bd3786"
            ],
            [
             0.5555555555555556,
             "#d8576b"
            ],
            [
             0.6666666666666666,
             "#ed7953"
            ],
            [
             0.7777777777777778,
             "#fb9f3a"
            ],
            [
             0.8888888888888888,
             "#fdca26"
            ],
            [
             1,
             "#f0f921"
            ]
           ]
          },
          "colorway": [
           "#636efa",
           "#EF553B",
           "#00cc96",
           "#ab63fa",
           "#FFA15A",
           "#19d3f3",
           "#FF6692",
           "#B6E880",
           "#FF97FF",
           "#FECB52"
          ],
          "font": {
           "color": "#2a3f5f"
          },
          "geo": {
           "bgcolor": "white",
           "lakecolor": "white",
           "landcolor": "#E5ECF6",
           "showlakes": true,
           "showland": true,
           "subunitcolor": "white"
          },
          "hoverlabel": {
           "align": "left"
          },
          "hovermode": "closest",
          "mapbox": {
           "style": "light"
          },
          "paper_bgcolor": "white",
          "plot_bgcolor": "#E5ECF6",
          "polar": {
           "angularaxis": {
            "gridcolor": "white",
            "linecolor": "white",
            "ticks": ""
           },
           "bgcolor": "#E5ECF6",
           "radialaxis": {
            "gridcolor": "white",
            "linecolor": "white",
            "ticks": ""
           }
          },
          "scene": {
           "xaxis": {
            "backgroundcolor": "#E5ECF6",
            "gridcolor": "white",
            "gridwidth": 2,
            "linecolor": "white",
            "showbackground": true,
            "ticks": "",
            "zerolinecolor": "white"
           },
           "yaxis": {
            "backgroundcolor": "#E5ECF6",
            "gridcolor": "white",
            "gridwidth": 2,
            "linecolor": "white",
            "showbackground": true,
            "ticks": "",
            "zerolinecolor": "white"
           },
           "zaxis": {
            "backgroundcolor": "#E5ECF6",
            "gridcolor": "white",
            "gridwidth": 2,
            "linecolor": "white",
            "showbackground": true,
            "ticks": "",
            "zerolinecolor": "white"
           }
          },
          "shapedefaults": {
           "line": {
            "color": "#2a3f5f"
           }
          },
          "ternary": {
           "aaxis": {
            "gridcolor": "white",
            "linecolor": "white",
            "ticks": ""
           },
           "baxis": {
            "gridcolor": "white",
            "linecolor": "white",
            "ticks": ""
           },
           "bgcolor": "#E5ECF6",
           "caxis": {
            "gridcolor": "white",
            "linecolor": "white",
            "ticks": ""
           }
          },
          "title": {
           "x": 0.05
          },
          "xaxis": {
           "automargin": true,
           "gridcolor": "white",
           "linecolor": "white",
           "ticks": "",
           "title": {
            "standoff": 15
           },
           "zerolinecolor": "white",
           "zerolinewidth": 2
          },
          "yaxis": {
           "automargin": true,
           "gridcolor": "white",
           "linecolor": "white",
           "ticks": "",
           "title": {
            "standoff": 15
           },
           "zerolinecolor": "white",
           "zerolinewidth": 2
          }
         }
        },
        "title": {
         "text": "🎯 多元线性回归：数据点与预测平面"
        },
        "width": 900
       }
      },
      "text/html": [
       "<div>            <script src=\"https://cdnjs.cloudflare.com/ajax/libs/mathjax/2.7.5/MathJax.js?config=TeX-AMS-MML_SVG\"></script><script type=\"text/javascript\">if (window.MathJax && window.MathJax.Hub && window.MathJax.Hub.Config) {window.MathJax.Hub.Config({SVG: {font: \"STIX-Web\"}});}</script>                <script type=\"text/javascript\">window.PlotlyConfig = {MathJaxConfig: 'local'};</script>\n",
       "        <script charset=\"utf-8\" src=\"https://cdn.plot.ly/plotly-3.0.1.min.js\" integrity=\"sha256-oy6Be7Eh6eiQFs5M7oXuPxxm9qbJXEtTpfSI93dW16Q=\" crossorigin=\"anonymous\"></script>                <div id=\"2a580c8f-617d-4bdc-aa10-cf318c463a28\" class=\"plotly-graph-div\" style=\"height:700px; width:900px;\"></div>            <script type=\"text/javascript\">                window.PLOTLYENV=window.PLOTLYENV || {};                                if (document.getElementById(\"2a580c8f-617d-4bdc-aa10-cf318c463a28\")) {                    Plotly.newPlot(                        \"2a580c8f-617d-4bdc-aa10-cf318c463a28\",                        [{\"marker\":{\"color\":\"blue\",\"opacity\":0.8,\"size\":8},\"mode\":\"markers\",\"name\":\"\\u8bad\\u7ec3\\u6570\\u636e\",\"x\":{\"dtype\":\"f8\",\"bdata\":\"\\u002f\\u002f\\u002f\\u002f3w0O8j\\u002f8\\u002f\\u002f8\\u002f55bbPwIAACDAC\\u002fI\\u002f+\\u002f\\u002f\\u002f\\u002f2698z8DAADgAbbVPw0AAODyjPU\\u002f\\u002fP\\u002f\\u002fH8g76T8OAADghXm+PwIAAKCTdLc\\u002fBgAAwCEs8z8DAACA9JfnP\\u002f7\\u002f\\u002f780rOA\\u002f+v\\u002f\\u002ff3RM8T8AAACAWJ7tPwcAAMCIzvc\\u002fDwAA4GcL9D\\u002f1\\u002f\\u002f\\u002f\\u002fD+X2PwMAAODaYOc\\u002f\\u002fv\\u002f\\u002ff94r8z\\u002f3\\u002f\\u002f+f3g3YP\\u002ff\\u002f\\u002f7\\u002fuEPc\\u002f+f\\u002f\\u002ffybL9z8CAADgKcD3P+z\\u002f\\u002f99wc\\u002fI\\u002fAAAAgFjX7T\\u002f\\u002f\\u002f\\u002f8f\\u002faDsP\\u002f\\u002f\\u002f\\u002fz90yuA\\u002fAAAAwCmr9D8HAACgvaH0PwMAACAndfI\\u002fCQAAwL153j8DAADAVFXsP\\u002fz\\u002f\\u002f38pwOQ\\u002fDQAAACXw8T8CAABgG8biP+7\\u002f\\u002f19SIvU\\u002f8v\\u002f\\u002ff4cI9T\\u002f4\\u002f\\u002f\\u002f\\u002fEn71PwIAAIAhatY\\u002fDgAAIJeP8z8MAAAgonvzP\\u002f3\\u002f\\u002fx9vffg\\u002f\\u002ff\\u002f\\u002fP2tr7j8AAABAlqT1P\\u002f7\\u002f\\u002f3\\u002foUuc\\u002f7v\\u002f\\u002ffx1F8T\\u002f5\\u002f\\u002f9fW8HxP\\u002f\\u002f\\u002f\\u002f\\u002f8Y9PE\\u002f+\\u002f\\u002f\\u002ff0KB8j\\u002f5\\u002f\\u002f+fWCjwPxQAAOAfe\\u002fM\\u002f\\u002fv\\u002f\\u002fP6FC5z8IAACAT5fXPw0AAIDRqPQ\\u002fBAAA4N4Y9z8QAABgIvD2PwgAACD4ucQ\\u002f9\\u002f\\u002f\\u002fn16S0z\\u002fw\\u002f\\u002f8\\u002f\\u002fKDxPxMAAGCla\\u002fc\\u002fAgAAAAnj6T8FAAAAkQH2PwEAAEC9ftc\\u002f\\u002f\\u002f\\u002f\\u002ff4Vs2T\\u002f\\u002f\\u002f\\u002f+\\u002fwh3wPwIAAIAI3fk\\u002fAQAAYKXc7j\\u002f6\\u002f\\u002f8f7LH1PwEAAGD0HO0\\u002fAAAAIDwU4z8DAACgcOfrPxEAAGCJ0Pc\\u002f\\u002fv\\u002f\\u002fH1aV8j8RAADAkRP7PwwAAGD49vI\\u002fAQAAoM\\u002fg7z\\u002fz\\u002f\\u002f\\u002ffzzT1P\\u002f3\\u002f\\u002fz9w3ug\\u002fAAAAwF+13j8AAABgiJnXP\\u002fn\\u002f\\u002f59nCNw\\u002f9P\\u002f\\u002fXzFS9j8AAACgcu\\u002fhPw8AAGCUdfU\\u002f\\u002fv\\u002f\\u002fn1+27z8TAABgfib2Pw4AAIBpTc8\\u002fAgAAAAWUtz8AAABgSJDwPwgAAGA1lNc\\u002fAwAAAIgU6T8TAADABiz0PxUAAEAoEPg\\u002fAwAAQC1M4z\\u002f8\\u002f\\u002f+\\u002f\\u002f6zeP\\u002fz\\u002f\\u002fz8iDu0\\u002f9f\\u002f\\u002f30Qh8T8AAADAc9vvP\\u002f3\\u002f\\u002f1+Pcu4\\u002fEQAAAKju\\u002fT\\u002f9\\u002f\\u002f9\\u002fhirpPwEAAKDFffY\\u002fBwAAQFwD8D\\u002f0\\u002f\\u002f\\u002f\\u002fqNP4PwYAAEC6\\u002fc0\\u002fAQAA4III8T\\u002f+\\u002f\\u002f+\\u002fgxnsPwEAAGA+eOs\\u002f+f\\u002f\\u002ff82x2T8BAADg5W\\u002fvP\\u002f3\\u002f\\u002f58C6fc\\u002f\\u002f\\u002f\\u002f\\u002fX3q9+D\\u002f8\\u002f\\u002f\\u002ffio30PwkAAGBcadg\\u002fEQAAACgK+T8EAABAAN\\u002f7P\\u002fT\\u002f\\u002f7+SIPo\\u002fBAAAwOwb8T\\u002f5\\u002f\\u002f+\\u002fbeHNP+z\\u002f\\u002fz\\u002fSqvc\\u002fBAAA4KhB4z8KAADAC+DwP\\u002fz\\u002f\\u002fz+ssPc\\u002f\\u002ff\\u002f\\u002fP7DR7D8=\"},\"y\":{\"dtype\":\"f8\",\"bdata\":\"EAAAgC22wz\\u002f4\\u002f\\u002f9f+ULbPwAAACABkeI\\u002fAQAA4NGZ4T8FAADAeiraPwEAAEAzKN4\\u002fAgAAYBZG4j8GAADg7E3VPwUAAMBPq64\\u002f\\u002ff\\u002f\\u002ff1U\\u002f0z\\u002f4\\u002f\\u002f9\\u002fsKTcP\\u002fz\\u002f\\u002fz+YANk\\u002f\\u002fv\\u002f\\u002fXydC3j8IAADADFveP\\u002f\\u002f\\u002f\\u002f98XAOI\\u002f9\\u002f\\u002f\\u002fXw0f2D8HAACAHhjePwUAAMDwRtY\\u002fAAAAADH90z\\u002f9\\u002f\\u002f+fUYfVP\\u002f3\\u002f\\u002f78XQ+A\\u002f\\u002ff\\u002f\\u002f\\u002fyMr4j8BAAAgXkDjPwQAACArato\\u002fBwAAoPNN3j8fAABgRnu\\u002fP\\u002fz\\u002f\\u002fx8mLt4\\u002f\\u002fP\\u002f\\u002ff6Sm4D8BAADg14G4PwIAAKBie9k\\u002f+\\u002f\\u002f\\u002fP4+f0z8EAADAmAzgP\\u002f3\\u002f\\u002f5\\u002fhmbg\\u002f9P\\u002f\\u002fv2b1yD\\u002f\\u002f\\u002f\\u002f8\\u002fZZ3ePwEAAOAWqt4\\u002fAwAAoE77zT\\u002f9\\u002f\\u002f\\u002f\\u002fLdfiPwYAAGBxwtQ\\u002f\\u002ff\\u002f\\u002fv5Je0D\\u002f9\\u002f\\u002f+fjD\\u002fdP\\u002fj\\u002f\\u002f5+2yNw\\u002fAAAAwF\\u002fN0z8FAACAqWvfP\\u002fr\\u002f\\u002f5810M4\\u002fAwAA4NCu4T\\u002f9\\u002f\\u002f8\\u002fcJDiPwQAAICRKuA\\u002f+\\u002f\\u002f\\u002ff9bn0j8BAACAdfXhPwQAAKBhiuI\\u002fBAAAoIgbzj\\u002f0\\u002f\\u002f+fRhmfP\\u002fr\\u002f\\u002f5+1vtk\\u002f\\u002fP\\u002f\\u002f30DG4z\\u002f8\\u002f\\u002f+\\u002fRCLXP\\u002f3\\u002f\\u002fx8vRtc\\u002f\\u002fv\\u002f\\u002ff5k3yD\\u002f9\\u002f\\u002f+\\u002fks7dP\\u002f7\\u002f\\u002fz\\u002fNReE\\u002f+v\\u002f\\u002fv3bX2z8JAACgt\\u002fvZP\\u002f3\\u002f\\u002f\\u002f+3duA\\u002fAgAAIPHSwj8BAADgIIrSP\\u002f3\\u002f\\u002f79hVeQ\\u002fAgAAoFOm4D\\u002f+\\u002f\\u002f+\\u002fJbrWPwAAAGBNrds\\u002f\\u002fP\\u002f\\u002f38od3T8EAAAgfwDhPwEAAOAHLeE\\u002f+v\\u002f\\u002fv8WC0j8CAABAS5jhPwIAAOAzpt8\\u002f\\u002f\\u002f\\u002f\\u002fP3lq2D8HAABgrO7SPwMAAODE37Q\\u002f+\\u002f\\u002f\\u002f\\u002f\\u002fgt3D\\u002f+\\u002f\\u002f\\u002f\\u002fdp7iPxAAAKCfx8Q\\u002fBgAAQLBp0D8FAADgFPrcP\\u002f\\u002f\\u002f\\u002f3+KUuI\\u002f\\u002fP\\u002f\\u002ff2nH2j8JAADAeCnaPwUAAABCT9Y\\u002fDQAAQPszzj8GAADg2MzcP\\u002f7\\u002f\\u002f\\u002f+KZdQ\\u002fAwAAIOdG2T\\u002f6\\u002f\\u002f\\u002f\\u002fZdjUPwEAAEB4u+I\\u002f+\\u002f\\u002f\\u002f3zen3D\\u002f4\\u002f\\u002f\\u002ff4C\\u002fYP\\u002fz\\u002f\\u002f18yheE\\u002f\\u002fv\\u002f\\u002fXyeP3j8DAABgaV\\u002fcPwUAAMCOqNA\\u002f\\u002f\\u002f\\u002f\\u002ffwpV4z\\u002f8\\u002f\\u002f9\\u002fXxDlP\\u002fz\\u002f\\u002f59lpuM\\u002fAAAAoPch3T\\u002f\\u002f\\u002f\\u002f+\\u002fB2zfP\\u002fr\\u002f\\u002f\\u002f9Hxd4\\u002fAAAAwKTb1D\\u002f7\\u002f\\u002f8fRB\\u002faPwAAAAAAAAAA6P\\u002f\\u002fv5Quuz8MAAAg4inKPwEAAAATneM\\u002fAQAAwAYv4D\\u002f7\\u002f\\u002f8\\u002fQP\\u002fbPwAAAKAoXdw\\u002fAwAAQJ7X4z\\u002f+\\u002f\\u002f9fkxfjP\\u002f7\\u002f\\u002f7\\u002f+w98\\u002fDgAAwDC3yj\\u002f9\\u002f\\u002f\\u002f\\u002f7eHdP\\u002f7\\u002f\\u002f38jjuM\\u002f\\u002fv\\u002f\\u002fX51E5D8BAACA+qveP\\u002fz\\u002f\\u002f1+3EeQ\\u002fDwAAYABiyT8=\"},\"z\":{\"dtype\":\"f8\",\"bdata\":\"AAAAAAAAFUD4\\u002f\\u002f8\\u002fiUENQPz\\u002f\\u002f\\u002f8sshlAAQAAINnOGUD9\\u002f\\u002f8\\u002fCtcRQP\\u002f\\u002f\\u002f59wPRdA+\\u002f\\u002f\\u002fn8ZLFEAKAACAlUMMQP\\u002f\\u002f\\u002f59wPQdAAAAAAAAAFkABAABAtEgYQAcAAMDIdg5AAQAAQI0XFUD9\\u002f\\u002f+\\u002fdj4VQAQAAADTzRtABQAA4KWbGkD9\\u002f\\u002f+fm8QZQPz\\u002f\\u002fx9YuRRA\\u002f\\u002f\\u002f\\u002f\\u002fyjcEUAAAAAAAAAPQAEAAOAi2xpAAAAA4CQGHEADAADg0CIdQP\\u002f\\u002f\\u002fz\\u002ffTxpAAgAAANX4FUD\\u002f\\u002f\\u002f\\u002ffTWIQQAEAAOD7KRRA+\\u002f\\u002f\\u002fH1rkF0D\\u002f\\u002f\\u002f+\\u002fcugUQP3\\u002f\\u002f7+d7xRAAQAAYI\\u002fCEEACAACgQwsUQP\\u002f\\u002f\\u002f\\u002f8BKxFAAgAAILDyFED+\\u002f\\u002f9\\u002fl24SQAQAAACqcRZABQAA4KWbF0AFAADgpRsaQPz\\u002f\\u002f5\\u002fEIBBA\\u002fv\\u002f\\u002fPwgsFUAEAADAzEwXQAIAAIBBYBlA\\u002f\\u002f\\u002f\\u002fH90kEUD9\\u002f\\u002f+\\u002fnW8aQAIAAKAcWhdABAAAIIXrFED9\\u002f\\u002f9f5VAcQAcAAKDEIA5ABAAA4KdGFkABAABgj8IRQP3\\u002f\\u002f1\\u002fl0BlA\\u002fv\\u002f\\u002fv3QTFUD5\\u002f\\u002f+f8dIMQP\\u002f\\u002f\\u002fx8EVhhAAgAAgEHgHUABAADAILAZQAMAAACsHBBA\\u002fP\\u002f\\u002ff+kmDUD+\\u002f\\u002f+fmRkWQAMAAEBikBtAAQAA4PspEUACAACgHNocQAUAAIAULhJA+v\\u002f\\u002fP166DED9\\u002f\\u002f\\u002ffUTgTQP7\\u002f\\u002f1\\u002fjJR5A+\\u002f\\u002f\\u002fn8ZLEkD8\\u002f\\u002f9f53sWQAUAAGASAxhABAAAoBgEFED9\\u002f\\u002f9f5dAZQAQAAIAWWRhAAQAA4CLbEkD\\u002f\\u002f\\u002f9fukkaQAQAAEBgZRpA\\u002fv\\u002f\\u002fv3STEkD7\\u002f\\u002f8fWmQYQAgAAAAtsgtABAAAgBbZE0D9\\u002f\\u002f+fm8QLQPv\\u002f\\u002f5\\u002ftfA9AAQAA4CLbF0ABAACgRTYSQPz\\u002f\\u002fx8xCBdA+\\u002f\\u002f\\u002fXxBYFUADAAAArJwZQPz\\u002f\\u002f\\u002f9VDgxAAAAAYLgeEUD\\u002f\\u002f\\u002f\\u002f\\u002fKNwWQP\\u002f\\u002f\\u002fx8E1hJA+\\u002f\\u002f\\u002fn8ZLFEACAABgZmYXQPz\\u002f\\u002fz8Mgh1A\\u002ff\\u002f\\u002f31G4EEABAAAA1yMSQAQAAKDx0hdAAAAAYJFtGUAAAADASQwVQAEAACCyHRVAAAAAAACAGUD\\u002f\\u002f\\u002f\\u002ffTeIXQAMAAECJQR1A\\u002fP\\u002f\\u002fHzEIGED9\\u002f\\u002f\\u002f\\u002fU+MVQPz\\u002f\\u002fz8zMxJA\\u002fP\\u002f\\u002fPzOzFED7\\u002f\\u002f\\u002ffo\\u002fAUQAsAAAApXA5A9v\\u002f\\u002fnxxaDkAFAABAXroUQAMAAODQIh1AAgAAANX4G0AEAADgp0YXQAQAAKDxUhBAAAAAINv5HUAAAABAtnMbQAQAACCFaxhA\\u002fP\\u002f\\u002f33qUFUABAABgj8IPQP\\u002f\\u002f\\u002f3+VQx1A\\u002fv\\u002f\\u002fPwisEED9\\u002f\\u002f9f5VATQAQAAKAYBB5A\\u002fv\\u002f\\u002fHwaBEUA=\"},\"type\":\"scatter3d\"},{\"marker\":{\"color\":\"red\",\"opacity\":0.9,\"size\":10},\"mode\":\"markers\",\"name\":\"\\u6d4b\\u8bd5\\u6570\\u636e\",\"x\":{\"dtype\":\"f8\",\"bdata\":\"EAAAQNe39z8SAAAgQZL4PwoAAKCABfo\\u002fBgAAALi38T8VAAAgHcj1PwAAAMApgvQ\\u002f\\u002f\\u002f\\u002f\\u002fP6+r9j8VAADgRnjxPw0AAGBGbfY\\u002f\\u002fP\\u002f\\u002fPyKu6j\\u002f6\\u002f\\u002f9fqRfyPw4AAKDDB\\u002fM\\u002fAQAAoEVy6z8UAABAgZP0P\\u002fP\\u002f\\u002fx8mM\\u002fE\\u002fBgAAQPUK9T\\u002f\\u002f\\u002f\\u002f9fxi+XPxAAAOCOb\\u002fA\\u002fAwAAgIPr5j8BAAAgo6vvPwIAACDKDuI\\u002f9\\u002f\\u002f\\u002fX42C8j8EAADAcV3kP+7\\u002f\\u002f7+zpPE\\u002fAgAAYOBZ6T\\u002f\\u002f\\u002f\\u002f+\\u002fwhrlP\\u002f3\\u002f\\u002f9\\u002fnWeU\\u002f\\u002fP\\u002f\\u002fHxLv4j8IAAAAaIzTP\\u002fz\\u002f\\u002f585W+A\\u002fAAAAAAAAAAA=\"},\"y\":{\"dtype\":\"f8\",\"bdata\":\"\\u002ff\\u002f\\u002fPz8I5D8BAACA61biP\\u002f3\\u002f\\u002f3+Qd+M\\u002f+\\u002f\\u002f\\u002f\\u002fz3\\u002f2z\\u002f8\\u002f\\u002f9\\u002fn5jgPwcAAAAQ7Nc\\u002f\\u002f\\u002f\\u002f\\u002fnxUu4D\\u002f3\\u002f\\u002f+f8t3NP\\u002f7\\u002f\\u002f9\\u002fJgdA\\u002fBAAA4CPh4T8AAACg98TaP\\u002fn\\u002f\\u002f5+YcN8\\u002fAQAAIBS64j\\u002f4\\u002f\\u002f8fsoLGP\\u002fj\\u002f\\u002f78Ld9I\\u002f\\u002fP\\u002f\\u002f\\u002f9rm3z8AAADAn0TjPwIAAKCnOdk\\u002fBQAAoC9N0D8GAADAFw7SP\\u002fj\\u002f\\u002fz99i9s\\u002fBAAAoM3pzz8DAABg6YrdPwIAAKCxd9I\\u002f\\u002f\\u002f\\u002f\\u002fX0QU3j\\u002fs\\u002f\\u002f+fJbaOP\\u002f\\u002f\\u002f\\u002f9\\u002fcEts\\u002fDgAAYG3uzz\\u002f\\u002f\\u002f\\u002f\\u002ff5ljYPwUAACAN9tg\\u002fAAAA4HlV0T8=\"},\"z\":{\"dtype\":\"f8\",\"bdata\":\"AwAAIIcWHkD\\u002f\\u002f\\u002f+\\u002fcugbQAEAAECNlxpABQAAgD2KGkD+\\u002f\\u002f8\\u002fCKwYQAIAAKAc2hdABQAAgBSuF0D7\\u002f\\u002f+f7XwXQAIAAKAcWhdA\\u002ff\\u002f\\u002ff8BKF0D\\u002f\\u002f\\u002f9fukkXQAQAAKAYhBZA\\u002ff\\u002f\\u002f31G4FUD7\\u002f\\u002f+fxksVQAIAAGBm5hRAAwAAIK7HFED8\\u002f\\u002f+\\u002fn5oUQPv\\u002f\\u002f3\\u002fr0RNA\\u002fv\\u002f\\u002fn5kZE0D7\\u002f\\u002f\\u002ffo\\u002fASQAMAACCuxxJA\\u002ff\\u002f\\u002fn5vEEkD8\\u002f\\u002f\\u002f\\u002fVQ4SQPv\\u002f\\u002f5\\u002ft\\u002fBFAAQAAYI9CEUD8\\u002f\\u002f\\u002f\\u002fVY4QQP7\\u002f\\u002fz\\u002fhehBACAAAwHa+DED7\\u002f\\u002f9\\u002fwvULQAgAAIDAygpA9\\u002f\\u002f\\u002fn0OLBUA=\"},\"type\":\"scatter3d\"},{\"marker\":{\"color\":\"green\",\"opacity\":0.6,\"size\":3},\"mode\":\"markers\",\"name\":\"\\u9884\\u6d4b\\u5e73\\u9762\",\"x\":{\"dtype\":\"f8\",\"bdata\":\"AgAAoJN0tz8CAACgk3S3PwIAAKCTdLc\\u002fAgAAoJN0tz8CAACgk3S3PwIAAKCTdLc\\u002fAgAAoJN0tz8CAACgk3S3PwIAAKCTdLc\\u002fAgAAoJN0tz8CAACgk3S3PwIAAKCTdLc\\u002fAgAAoJN0tz8CAACgk3S3PwIAAKCTdLc\\u002fCwAA+H\\u002f+yz8LAAD4f\\u002f7LPwsAAPh\\u002f\\u002fss\\u002fCwAA+H\\u002f+yz8LAAD4f\\u002f7LPwsAAPh\\u002f\\u002fss\\u002fCwAA+H\\u002f+yz8LAAD4f\\u002f7LPwsAAPh\\u002f\\u002fss\\u002fCwAA+H\\u002f+yz8LAAD4f\\u002f7LPwsAAPh\\u002f\\u002fss\\u002fCwAA+H\\u002f+yz8LAAD4f\\u002f7LPwsAAPh\\u002f\\u002fss\\u002fCgAAEFsh1j8KAAAQWyHWPwoAABBbIdY\\u002fCgAAEFsh1j8KAAAQWyHWPwoAABBbIdY\\u002fCgAAEFsh1j8KAAAQWyHWPwoAABBbIdY\\u002fCgAAEFsh1j8KAAAQWyHWPwoAABBbIdY\\u002fCgAAEFsh1j8KAAAQWyHWPwoAABBbIdY\\u002fEAAAJHZD3j8QAAAkdkPePxAAACR2Q94\\u002fEAAAJHZD3j8QAAAkdkPePxAAACR2Q94\\u002fEAAAJHZD3j8QAAAkdkPePxAAACR2Q94\\u002fEAAAJHZD3j8QAAAkdkPePxAAACR2Q94\\u002fEAAAJHZD3j8QAAAkdkPePxAAACR2Q94\\u002fCgAAnMgy4z8KAACcyDLjPwoAAJzIMuM\\u002fCgAAnMgy4z8KAACcyDLjPwoAAJzIMuM\\u002fCgAAnMgy4z8KAACcyDLjPwoAAJzIMuM\\u002fCgAAnMgy4z8KAACcyDLjPwoAAJzIMuM\\u002fCgAAnMgy4z8KAACcyDLjPwoAAJzIMuM\\u002fDAAAJtZD5z8MAAAm1kPnPwwAACbWQ+c\\u002fDAAAJtZD5z8MAAAm1kPnPwwAACbWQ+c\\u002fDAAAJtZD5z8MAAAm1kPnPwwAACbWQ+c\\u002fDAAAJtZD5z8MAAAm1kPnPwwAACbWQ+c\\u002fDAAAJtZD5z8MAAAm1kPnPwwAACbWQ+c\\u002fDwAAsONU6z8PAACw41TrPw8AALDjVOs\\u002fDwAAsONU6z8PAACw41TrPw8AALDjVOs\\u002fDwAAsONU6z8PAACw41TrPw8AALDjVOs\\u002fDwAAsONU6z8PAACw41TrPw8AALDjVOs\\u002fDwAAsONU6z8PAACw41TrPw8AALDjVOs\\u002fEgAAOvFl7z8SAAA68WXvPxIAADrxZe8\\u002fEgAAOvFl7z8SAAA68WXvPxIAADrxZe8\\u002fEgAAOvFl7z8SAAA68WXvPxIAADrxZe8\\u002fEgAAOvFl7z8SAAA68WXvPxIAADrxZe8\\u002fEgAAOvFl7z8SAAA68WXvPxIAADrxZe8\\u002fCgAAYn+78T8KAABif7vxPwoAAGJ\\u002fu\\u002fE\\u002fCgAAYn+78T8KAABif7vxPwoAAGJ\\u002fu\\u002fE\\u002fCgAAYn+78T8KAABif7vxPwoAAGJ\\u002fu\\u002fE\\u002fCgAAYn+78T8KAABif7vxPwoAAGJ\\u002fu\\u002fE\\u002fCgAAYn+78T8KAABif7vxPwoAAGJ\\u002fu\\u002fE\\u002fCwAAJwbE8z8LAAAnBsTzPwsAACcGxPM\\u002fCwAAJwbE8z8LAAAnBsTzPwsAACcGxPM\\u002fCwAAJwbE8z8LAAAnBsTzPwsAACcGxPM\\u002fCwAAJwbE8z8LAAAnBsTzPwsAACcGxPM\\u002fCwAAJwbE8z8LAAAnBsTzPwsAACcGxPM\\u002fDAAA7IzM9T8MAADsjMz1PwwAAOyMzPU\\u002fDAAA7IzM9T8MAADsjMz1PwwAAOyMzPU\\u002fDAAA7IzM9T8MAADsjMz1PwwAAOyMzPU\\u002fDAAA7IzM9T8MAADsjMz1PwwAAOyMzPU\\u002fDAAA7IzM9T8MAADsjMz1PwwAAOyMzPU\\u002fDgAAsRPV9z8OAACxE9X3Pw4AALET1fc\\u002fDgAAsRPV9z8OAACxE9X3Pw4AALET1fc\\u002fDgAAsRPV9z8OAACxE9X3Pw4AALET1fc\\u002fDgAAsRPV9z8OAACxE9X3Pw4AALET1fc\\u002fDgAAsRPV9z8OAACxE9X3Pw4AALET1fc\\u002fDwAAdprd+T8PAAB2mt35Pw8AAHaa3fk\\u002fDwAAdprd+T8PAAB2mt35Pw8AAHaa3fk\\u002fDwAAdprd+T8PAAB2mt35Pw8AAHaa3fk\\u002fDwAAdprd+T8PAAB2mt35Pw8AAHaa3fk\\u002fDwAAdprd+T8PAAB2mt35Pw8AAHaa3fk\\u002fEAAAOyHm+z8QAAA7Ieb7PxAAADsh5vs\\u002fEAAAOyHm+z8QAAA7Ieb7PxAAADsh5vs\\u002fEAAAOyHm+z8QAAA7Ieb7PxAAADsh5vs\\u002fEAAAOyHm+z8QAAA7Ieb7PxAAADsh5vs\\u002fEAAAOyHm+z8QAAA7Ieb7PxAAADsh5vs\\u002fEQAAAKju\\u002fT8RAAAAqO79PxEAAACo7v0\\u002fEQAAAKju\\u002fT8RAAAAqO79PxEAAACo7v0\\u002fEQAAAKju\\u002fT8RAAAAqO79PxEAAACo7v0\\u002fEQAAAKju\\u002fT8RAAAAqO79PxEAAACo7v0\\u002fEQAAAKju\\u002fT8RAAAAqO79PxEAAACo7v0\\u002f\"},\"y\":{\"dtype\":\"f8\",\"bdata\":\"AAAAAAAAAABFkiRJthKoP0WSJEm2Erg\\u002ftG3btggOwj9FkiRJthLIP9a2bdtjF84\\u002ftG3btggO0j\\u002f8\\u002f\\u002f9\\u002fXxDVP0WSJEm2Etg\\u002fjiRJEg0V2z\\u002fWtm3bYxfeP48kSVLdjOA\\u002ftG3btggO4j\\u002fYtm0bNI\\u002fjP\\u002fz\\u002f\\u002f39fEOU\\u002fAAAAAAAAAABFkiRJthKoP0WSJEm2Erg\\u002ftG3btggOwj9FkiRJthLIP9a2bdtjF84\\u002ftG3btggO0j\\u002f8\\u002f\\u002f9\\u002fXxDVP0WSJEm2Etg\\u002fjiRJEg0V2z\\u002fWtm3bYxfeP48kSVLdjOA\\u002ftG3btggO4j\\u002fYtm0bNI\\u002fjP\\u002fz\\u002f\\u002f39fEOU\\u002fAAAAAAAAAABFkiRJthKoP0WSJEm2Erg\\u002ftG3btggOwj9FkiRJthLIP9a2bdtjF84\\u002ftG3btggO0j\\u002f8\\u002f\\u002f9\\u002fXxDVP0WSJEm2Etg\\u002fjiRJEg0V2z\\u002fWtm3bYxfeP48kSVLdjOA\\u002ftG3btggO4j\\u002fYtm0bNI\\u002fjP\\u002fz\\u002f\\u002f39fEOU\\u002fAAAAAAAAAABFkiRJthKoP0WSJEm2Erg\\u002ftG3btggOwj9FkiRJthLIP9a2bdtjF84\\u002ftG3btggO0j\\u002f8\\u002f\\u002f9\\u002fXxDVP0WSJEm2Etg\\u002fjiRJEg0V2z\\u002fWtm3bYxfeP48kSVLdjOA\\u002ftG3btggO4j\\u002fYtm0bNI\\u002fjP\\u002fz\\u002f\\u002f39fEOU\\u002fAAAAAAAAAABFkiRJthKoP0WSJEm2Erg\\u002ftG3btggOwj9FkiRJthLIP9a2bdtjF84\\u002ftG3btggO0j\\u002f8\\u002f\\u002f9\\u002fXxDVP0WSJEm2Etg\\u002fjiRJEg0V2z\\u002fWtm3bYxfeP48kSVLdjOA\\u002ftG3btggO4j\\u002fYtm0bNI\\u002fjP\\u002fz\\u002f\\u002f39fEOU\\u002fAAAAAAAAAABFkiRJthKoP0WSJEm2Erg\\u002ftG3btggOwj9FkiRJthLIP9a2bdtjF84\\u002ftG3btggO0j\\u002f8\\u002f\\u002f9\\u002fXxDVP0WSJEm2Etg\\u002fjiRJEg0V2z\\u002fWtm3bYxfeP48kSVLdjOA\\u002ftG3btggO4j\\u002fYtm0bNI\\u002fjP\\u002fz\\u002f\\u002f39fEOU\\u002fAAAAAAAAAABFkiRJthKoP0WSJEm2Erg\\u002ftG3btggOwj9FkiRJthLIP9a2bdtjF84\\u002ftG3btggO0j\\u002f8\\u002f\\u002f9\\u002fXxDVP0WSJEm2Etg\\u002fjiRJEg0V2z\\u002fWtm3bYxfeP48kSVLdjOA\\u002ftG3btggO4j\\u002fYtm0bNI\\u002fjP\\u002fz\\u002f\\u002f39fEOU\\u002fAAAAAAAAAABFkiRJthKoP0WSJEm2Erg\\u002ftG3btggOwj9FkiRJthLIP9a2bdtjF84\\u002ftG3btggO0j\\u002f8\\u002f\\u002f9\\u002fXxDVP0WSJEm2Etg\\u002fjiRJEg0V2z\\u002fWtm3bYxfeP48kSVLdjOA\\u002ftG3btggO4j\\u002fYtm0bNI\\u002fjP\\u002fz\\u002f\\u002f39fEOU\\u002fAAAAAAAAAABFkiRJthKoP0WSJEm2Erg\\u002ftG3btggOwj9FkiRJthLIP9a2bdtjF84\\u002ftG3btggO0j\\u002f8\\u002f\\u002f9\\u002fXxDVP0WSJEm2Etg\\u002fjiRJEg0V2z\\u002fWtm3bYxfeP48kSVLdjOA\\u002ftG3btggO4j\\u002fYtm0bNI\\u002fjP\\u002fz\\u002f\\u002f39fEOU\\u002fAAAAAAAAAABFkiRJthKoP0WSJEm2Erg\\u002ftG3btggOwj9FkiRJthLIP9a2bdtjF84\\u002ftG3btggO0j\\u002f8\\u002f\\u002f9\\u002fXxDVP0WSJEm2Etg\\u002fjiRJEg0V2z\\u002fWtm3bYxfeP48kSVLdjOA\\u002ftG3btggO4j\\u002fYtm0bNI\\u002fjP\\u002fz\\u002f\\u002f39fEOU\\u002fAAAAAAAAAABFkiRJthKoP0WSJEm2Erg\\u002ftG3btggOwj9FkiRJthLIP9a2bdtjF84\\u002ftG3btggO0j\\u002f8\\u002f\\u002f9\\u002fXxDVP0WSJEm2Etg\\u002fjiRJEg0V2z\\u002fWtm3bYxfeP48kSVLdjOA\\u002ftG3btggO4j\\u002fYtm0bNI\\u002fjP\\u002fz\\u002f\\u002f39fEOU\\u002fAAAAAAAAAABFkiRJthKoP0WSJEm2Erg\\u002ftG3btggOwj9FkiRJthLIP9a2bdtjF84\\u002ftG3btggO0j\\u002f8\\u002f\\u002f9\\u002fXxDVP0WSJEm2Etg\\u002fjiRJEg0V2z\\u002fWtm3bYxfeP48kSVLdjOA\\u002ftG3btggO4j\\u002fYtm0bNI\\u002fjP\\u002fz\\u002f\\u002f39fEOU\\u002fAAAAAAAAAABFkiRJthKoP0WSJEm2Erg\\u002ftG3btggOwj9FkiRJthLIP9a2bdtjF84\\u002ftG3btggO0j\\u002f8\\u002f\\u002f9\\u002fXxDVP0WSJEm2Etg\\u002fjiRJEg0V2z\\u002fWtm3bYxfeP48kSVLdjOA\\u002ftG3btggO4j\\u002fYtm0bNI\\u002fjP\\u002fz\\u002f\\u002f39fEOU\\u002fAAAAAAAAAABFkiRJthKoP0WSJEm2Erg\\u002ftG3btggOwj9FkiRJthLIP9a2bdtjF84\\u002ftG3btggO0j\\u002f8\\u002f\\u002f9\\u002fXxDVP0WSJEm2Etg\\u002fjiRJEg0V2z\\u002fWtm3bYxfeP48kSVLdjOA\\u002ftG3btggO4j\\u002fYtm0bNI\\u002fjP\\u002fz\\u002f\\u002f39fEOU\\u002fAAAAAAAAAABFkiRJthKoP0WSJEm2Erg\\u002ftG3btggOwj9FkiRJthLIP9a2bdtjF84\\u002ftG3btggO0j\\u002f8\\u002f\\u002f9\\u002fXxDVP0WSJEm2Etg\\u002fjiRJEg0V2z\\u002fWtm3bYxfeP48kSVLdjOA\\u002ftG3btggO4j\\u002fYtm0bNI\\u002fjP\\u002fz\\u002f\\u002f39fEOU\\u002f\"},\"z\":{\"dtype\":\"f8\",\"bdata\":\"xtnk95VdDED6IyMdFQMNQC5uYUKUqA1AYrifZxNODkCWAt6MkvMOQMpMHLIRmQ9Af0uta0gfEECZcEz+B3IQQLOV65DHxBBAzbqKI4cXEUDn3ym2RmoRQAEFyUgGvRFAGypo28UPEkA1TwduhWISQE90pgBFtRJA4vZv\\u002fYvNDUAWQa4iC3MOQEqL7EeKGA9AftUqbQm+D0DZjzRJxDEQQPO009uDhBBADdpybkPXEEAn\\u002fxEBAyoRQEEksZPCfBFAW0lQJoLPEUB1bu+4QSISQI+TjksBdRJAqbgt3sDHEkDD3cxwgBoTQN0CbANAbRNAABT7AoI9D0A0XjkoAeMPQDTUuyZARBBATvlauf+WEEBoHvpLv+kQQIJDmd5+PBFAnGg4cT6PEUC2jdcD\\u002fuERQNCydpa9NBJA6tcVKX2HEkAE\\u002fbS7PNoSQB4iVE78LBNAOEfz4Lt\\u002fE0BSbJJze9ITQGyRMQY7JRRAjhhDBLxWEECoPeKWe6kQQMJigSk7\\u002fBBA3IcgvPpOEUD2rL9OuqERQBDSXuF59BFAKvf9czlHEkBEHJ0G+ZkSQF5BPJm47BJAeGbbK3g\\u002fE0CSi3q+N5ITQKywGVH35BNAxtW447Y3FEDg+ld2dooUQPof9wg23RRAHKcIB7cOEUA2zKeZdmERQFDxRiw2tBFAahbmvvUGEkCEO4VRtVkSQJ5gJOR0rBJAuIXDdjT\\u002fEkDSqmIJ9FETQOzPAZyzpBNABvWgLnP3E0AgGkDBMkoUQDo\\u002f31PynBRAVGR+5rHvFEBuiR15cUIVQIiuvAsxlRVAqzXOCbLGEUDFWm2ccRkSQN9\\u002fDC8xbBJA+aSrwfC+EkATykpUsBETQC3v6eZvZBNARxSJeS+3E0BhOSgM7wkUQHtex56uXBRAlYNmMW6vFECvqAXELQIVQMnNpFbtVBVA4\\u002fJD6aynFUD9F+N7bPoVQBc9gg4sTRZAOcSTDK1+EkBT6TKfbNESQG0O0jEsJBNAhzNxxOt2E0ChWBBXq8kTQLt9r+lqHBRA1aJOfCpvFEDvx+0O6sEUQAntjKGpFBVAIxIsNGlnFUA9N8vGKLoVQFdcalnoDBZAcYEJ7KdfFkCLpqh+Z7IWQKXLRxEnBRdAyFJZD6g2E0Did\\u002fihZ4kTQPyclzQn3BNAFsI2x+YuFEAw59VZpoEUQEoMdexl1BRAZDEUfyUnFUB+VrMR5XkVQJh7UqSkzBVAsqDxNmQfFkDMxZDJI3IWQObqL1zjxBZAABDP7qIXF0AaNW6BYmoXQDRaDRQivRdAVuEeEqPuE0BwBr6kYkEUQIorXTcilBRApFD8yeHmFEC+dZtcoTkVQNiaOu9gjBVA8r\\u002fZgSDfFUAM5XgU4DEWQCYKGKefhBZAQC+3OV\\u002fXFkBaVFbMHioXQHR59V7efBdAjp6U8Z3PF0CowzOEXSIYQMLo0hYddRhA5W\\u002fkFJ6mFED\\u002flIOnXfkUQBm6IjodTBVAM9\\u002fBzNyeFUBNBGFfnPEVQGcpAPJbRBZAgU6fhBuXFkCbcz4X2+kWQLWY3amaPBdAz718PFqPF0Dp4hvPGeIXQAMIu2HZNBhAHS1a9JiHGEA3UvmGWNoYQFF3mBkYLRlAc\\u002f6pF5leFUCNI0mqWLEVQKdI6DwYBBZAwW2Hz9dWFkDbkiZil6kWQPW3xfRW\\u002fBZAD91khxZPF0ApAgQa1qEXQEMno6yV9BdAXUxCP1VHGEB3ceHRFJoYQJGWgGTU7BhAq7sf95M\\u002fGUDF4L6JU5IZQN8FXhwT5RlAAo1vGpQWFkAcsg6tU2kWQDbXrT8TvBZAUPxM0tIOF0BqIexkkmEXQIRGi\\u002fdRtBdAnmsqihEHGEC4kMkc0VkYQNK1aK+QrBhA7NoHQlD\\u002fGEAGAKfUD1IZQCAlRmfPpBlAOkrl+Y73GUBUb4SMTkoaQG6UIx8OnRpAkBs1HY\\u002fOFkCqQNSvTiEXQMRlc0IOdBdA3ooS1c3GF0D4r7FnjRkYQBLVUPpMbBhALPrvjAy\\u002fGEBGH48fzBEZQGBELrKLZBlAemnNREu3GUCUjmzXCgoaQK6zC2rKXBpAyNiq\\u002fImvGkDi\\u002fUmPSQIbQPwi6SEJVRtAH6r6H4qGF0A5z5mySdkXQFP0OEUJLBhAbRnY18h+GECHPndqiNEYQKFjFv1HJBlAu4i1jwd3GUDVrVQix8kZQO\\u002fS87SGHBpACfiSR0ZvGkAjHTLaBcIaQD1C0WzFFBtAV2dw\\u002f4RnG0BxjA+SRLobQIuxriQEDRxArTjAIoU+GEDHXV+1RJEYQOGC\\u002fkcE5BhA+6ed2sM2GUAVzTxtg4kZQC\\u002fy2\\u002f9C3BlASRd7kgIvGkBjPBolwoEaQH1hubeB1BpAl4ZYSkEnG0Cxq\\u002ffcAHobQMvQlm\\u002fAzBtA5fU1AoAfHED\\u002fGtWUP3IcQBlAdCf\\u002fxBxA\"},\"type\":\"scatter3d\"}],                        {\"height\":700,\"scene\":{\"xaxis\":{\"title\":{\"text\":\"\\u7ecf\\u6d4e\\u6307\\u6807 (GDP per Capita)\"}},\"yaxis\":{\"title\":{\"text\":\"\\u81ea\\u7531\\u5ea6 (Freedom)\"}},\"zaxis\":{\"title\":{\"text\":\"\\u5e78\\u798f\\u6307\\u6570 (Happiness Score)\"}}},\"template\":{\"data\":{\"barpolar\":[{\"marker\":{\"line\":{\"color\":\"#E5ECF6\",\"width\":0.5},\"pattern\":{\"fillmode\":\"overlay\",\"size\":10,\"solidity\":0.2}},\"type\":\"barpolar\"}],\"bar\":[{\"error_x\":{\"color\":\"#2a3f5f\"},\"error_y\":{\"color\":\"#2a3f5f\"},\"marker\":{\"line\":{\"color\":\"#E5ECF6\",\"width\":0.5},\"pattern\":{\"fillmode\":\"overlay\",\"size\":10,\"solidity\":0.2}},\"type\":\"bar\"}],\"carpet\":[{\"aaxis\":{\"endlinecolor\":\"#2a3f5f\",\"gridcolor\":\"white\",\"linecolor\":\"white\",\"minorgridcolor\":\"white\",\"startlinecolor\":\"#2a3f5f\"},\"baxis\":{\"endlinecolor\":\"#2a3f5f\",\"gridcolor\":\"white\",\"linecolor\":\"white\",\"minorgridcolor\":\"white\",\"startlinecolor\":\"#2a3f5f\"},\"type\":\"carpet\"}],\"choropleth\":[{\"colorbar\":{\"outlinewidth\":0,\"ticks\":\"\"},\"type\":\"choropleth\"}],\"contourcarpet\":[{\"colorbar\":{\"outlinewidth\":0,\"ticks\":\"\"},\"type\":\"contourcarpet\"}],\"contour\":[{\"colorbar\":{\"outlinewidth\":0,\"ticks\":\"\"},\"colorscale\":[[0.0,\"#0d0887\"],[0.1111111111111111,\"#46039f\"],[0.2222222222222222,\"#7201a8\"],[0.3333333333333333,\"#9c179e\"],[0.4444444444444444,\"#bd3786\"],[0.5555555555555556,\"#d8576b\"],[0.6666666666666666,\"#ed7953\"],[0.7777777777777778,\"#fb9f3a\"],[0.8888888888888888,\"#fdca26\"],[1.0,\"#f0f921\"]],\"type\":\"contour\"}],\"heatmap\":[{\"colorbar\":{\"outlinewidth\":0,\"ticks\":\"\"},\"colorscale\":[[0.0,\"#0d0887\"],[0.1111111111111111,\"#46039f\"],[0.2222222222222222,\"#7201a8\"],[0.3333333333333333,\"#9c179e\"],[0.4444444444444444,\"#bd3786\"],[0.5555555555555556,\"#d8576b\"],[0.6666666666666666,\"#ed7953\"],[0.7777777777777778,\"#fb9f3a\"],[0.8888888888888888,\"#fdca26\"],[1.0,\"#f0f921\"]],\"type\":\"heatmap\"}],\"histogram2dcontour\":[{\"colorbar\":{\"outlinewidth\":0,\"ticks\":\"\"},\"colorscale\":[[0.0,\"#0d0887\"],[0.1111111111111111,\"#46039f\"],[0.2222222222222222,\"#7201a8\"],[0.3333333333333333,\"#9c179e\"],[0.4444444444444444,\"#bd3786\"],[0.5555555555555556,\"#d8576b\"],[0.6666666666666666,\"#ed7953\"],[0.7777777777777778,\"#fb9f3a\"],[0.8888888888888888,\"#fdca26\"],[1.0,\"#f0f921\"]],\"type\":\"histogram2dcontour\"}],\"histogram2d\":[{\"colorbar\":{\"outlinewidth\":0,\"ticks\":\"\"},\"colorscale\":[[0.0,\"#0d0887\"],[0.1111111111111111,\"#46039f\"],[0.2222222222222222,\"#7201a8\"],[0.3333333333333333,\"#9c179e\"],[0.4444444444444444,\"#bd3786\"],[0.5555555555555556,\"#d8576b\"],[0.6666666666666666,\"#ed7953\"],[0.7777777777777778,\"#fb9f3a\"],[0.8888888888888888,\"#fdca26\"],[1.0,\"#f0f921\"]],\"type\":\"histogram2d\"}],\"histogram\":[{\"marker\":{\"pattern\":{\"fillmode\":\"overlay\",\"size\":10,\"solidity\":0.2}},\"type\":\"histogram\"}],\"mesh3d\":[{\"colorbar\":{\"outlinewidth\":0,\"ticks\":\"\"},\"type\":\"mesh3d\"}],\"parcoords\":[{\"line\":{\"colorbar\":{\"outlinewidth\":0,\"ticks\":\"\"}},\"type\":\"parcoords\"}],\"pie\":[{\"automargin\":true,\"type\":\"pie\"}],\"scatter3d\":[{\"line\":{\"colorbar\":{\"outlinewidth\":0,\"ticks\":\"\"}},\"marker\":{\"colorbar\":{\"outlinewidth\":0,\"ticks\":\"\"}},\"type\":\"scatter3d\"}],\"scattercarpet\":[{\"marker\":{\"colorbar\":{\"outlinewidth\":0,\"ticks\":\"\"}},\"type\":\"scattercarpet\"}],\"scattergeo\":[{\"marker\":{\"colorbar\":{\"outlinewidth\":0,\"ticks\":\"\"}},\"type\":\"scattergeo\"}],\"scattergl\":[{\"marker\":{\"colorbar\":{\"outlinewidth\":0,\"ticks\":\"\"}},\"type\":\"scattergl\"}],\"scattermapbox\":[{\"marker\":{\"colorbar\":{\"outlinewidth\":0,\"ticks\":\"\"}},\"type\":\"scattermapbox\"}],\"scattermap\":[{\"marker\":{\"colorbar\":{\"outlinewidth\":0,\"ticks\":\"\"}},\"type\":\"scattermap\"}],\"scatterpolargl\":[{\"marker\":{\"colorbar\":{\"outlinewidth\":0,\"ticks\":\"\"}},\"type\":\"scatterpolargl\"}],\"scatterpolar\":[{\"marker\":{\"colorbar\":{\"outlinewidth\":0,\"ticks\":\"\"}},\"type\":\"scatterpolar\"}],\"scatter\":[{\"fillpattern\":{\"fillmode\":\"overlay\",\"size\":10,\"solidity\":0.2},\"type\":\"scatter\"}],\"scatterternary\":[{\"marker\":{\"colorbar\":{\"outlinewidth\":0,\"ticks\":\"\"}},\"type\":\"scatterternary\"}],\"surface\":[{\"colorbar\":{\"outlinewidth\":0,\"ticks\":\"\"},\"colorscale\":[[0.0,\"#0d0887\"],[0.1111111111111111,\"#46039f\"],[0.2222222222222222,\"#7201a8\"],[0.3333333333333333,\"#9c179e\"],[0.4444444444444444,\"#bd3786\"],[0.5555555555555556,\"#d8576b\"],[0.6666666666666666,\"#ed7953\"],[0.7777777777777778,\"#fb9f3a\"],[0.8888888888888888,\"#fdca26\"],[1.0,\"#f0f921\"]],\"type\":\"surface\"}],\"table\":[{\"cells\":{\"fill\":{\"color\":\"#EBF0F8\"},\"line\":{\"color\":\"white\"}},\"header\":{\"fill\":{\"color\":\"#C8D4E3\"},\"line\":{\"color\":\"white\"}},\"type\":\"table\"}]},\"layout\":{\"annotationdefaults\":{\"arrowcolor\":\"#2a3f5f\",\"arrowhead\":0,\"arrowwidth\":1},\"autotypenumbers\":\"strict\",\"coloraxis\":{\"colorbar\":{\"outlinewidth\":0,\"ticks\":\"\"}},\"colorscale\":{\"diverging\":[[0,\"#8e0152\"],[0.1,\"#c51b7d\"],[0.2,\"#de77ae\"],[0.3,\"#f1b6da\"],[0.4,\"#fde0ef\"],[0.5,\"#f7f7f7\"],[0.6,\"#e6f5d0\"],[0.7,\"#b8e186\"],[0.8,\"#7fbc41\"],[0.9,\"#4d9221\"],[1,\"#276419\"]],\"sequential\":[[0.0,\"#0d0887\"],[0.1111111111111111,\"#46039f\"],[0.2222222222222222,\"#7201a8\"],[0.3333333333333333,\"#9c179e\"],[0.4444444444444444,\"#bd3786\"],[0.5555555555555556,\"#d8576b\"],[0.6666666666666666,\"#ed7953\"],[0.7777777777777778,\"#fb9f3a\"],[0.8888888888888888,\"#fdca26\"],[1.0,\"#f0f921\"]],\"sequentialminus\":[[0.0,\"#0d0887\"],[0.1111111111111111,\"#46039f\"],[0.2222222222222222,\"#7201a8\"],[0.3333333333333333,\"#9c179e\"],[0.4444444444444444,\"#bd3786\"],[0.5555555555555556,\"#d8576b\"],[0.6666666666666666,\"#ed7953\"],[0.7777777777777778,\"#fb9f3a\"],[0.8888888888888888,\"#fdca26\"],[1.0,\"#f0f921\"]]},\"colorway\":[\"#636efa\",\"#EF553B\",\"#00cc96\",\"#ab63fa\",\"#FFA15A\",\"#19d3f3\",\"#FF6692\",\"#B6E880\",\"#FF97FF\",\"#FECB52\"],\"font\":{\"color\":\"#2a3f5f\"},\"geo\":{\"bgcolor\":\"white\",\"lakecolor\":\"white\",\"landcolor\":\"#E5ECF6\",\"showlakes\":true,\"showland\":true,\"subunitcolor\":\"white\"},\"hoverlabel\":{\"align\":\"left\"},\"hovermode\":\"closest\",\"mapbox\":{\"style\":\"light\"},\"paper_bgcolor\":\"white\",\"plot_bgcolor\":\"#E5ECF6\",\"polar\":{\"angularaxis\":{\"gridcolor\":\"white\",\"linecolor\":\"white\",\"ticks\":\"\"},\"bgcolor\":\"#E5ECF6\",\"radialaxis\":{\"gridcolor\":\"white\",\"linecolor\":\"white\",\"ticks\":\"\"}},\"scene\":{\"xaxis\":{\"backgroundcolor\":\"#E5ECF6\",\"gridcolor\":\"white\",\"gridwidth\":2,\"linecolor\":\"white\",\"showbackground\":true,\"ticks\":\"\",\"zerolinecolor\":\"white\"},\"yaxis\":{\"backgroundcolor\":\"#E5ECF6\",\"gridcolor\":\"white\",\"gridwidth\":2,\"linecolor\":\"white\",\"showbackground\":true,\"ticks\":\"\",\"zerolinecolor\":\"white\"},\"zaxis\":{\"backgroundcolor\":\"#E5ECF6\",\"gridcolor\":\"white\",\"gridwidth\":2,\"linecolor\":\"white\",\"showbackground\":true,\"ticks\":\"\",\"zerolinecolor\":\"white\"}},\"shapedefaults\":{\"line\":{\"color\":\"#2a3f5f\"}},\"ternary\":{\"aaxis\":{\"gridcolor\":\"white\",\"linecolor\":\"white\",\"ticks\":\"\"},\"baxis\":{\"gridcolor\":\"white\",\"linecolor\":\"white\",\"ticks\":\"\"},\"bgcolor\":\"#E5ECF6\",\"caxis\":{\"gridcolor\":\"white\",\"linecolor\":\"white\",\"ticks\":\"\"}},\"title\":{\"x\":0.05},\"xaxis\":{\"automargin\":true,\"gridcolor\":\"white\",\"linecolor\":\"white\",\"ticks\":\"\",\"title\":{\"standoff\":15},\"zerolinecolor\":\"white\",\"zerolinewidth\":2},\"yaxis\":{\"automargin\":true,\"gridcolor\":\"white\",\"linecolor\":\"white\",\"ticks\":\"\",\"title\":{\"standoff\":15},\"zerolinecolor\":\"white\",\"zerolinewidth\":2}}},\"title\":{\"text\":\"\\ud83c\\udfaf \\u591a\\u5143\\u7ebf\\u6027\\u56de\\u5f52\\uff1a\\u6570\\u636e\\u70b9\\u4e0e\\u9884\\u6d4b\\u5e73\\u9762\"},\"width\":900},                        {\"responsive\": true}                    ).then(function(){\n",
       "                            \n",
       "var gd = document.getElementById('2a580c8f-617d-4bdc-aa10-cf318c463a28');\n",
       "var x = new MutationObserver(function (mutations, observer) {{\n",
       "        var display = window.getComputedStyle(gd).display;\n",
       "        if (!display || display === 'none') {{\n",
       "            console.log([gd, 'removed!']);\n",
       "            Plotly.purge(gd);\n",
       "            observer.disconnect();\n",
       "        }}\n",
       "}});\n",
       "\n",
       "// Listen for the removal of the full notebook cells\n",
       "var notebookContainer = gd.closest('#notebook-container');\n",
       "if (notebookContainer) {{\n",
       "    x.observe(notebookContainer, {childList: true});\n",
       "}}\n",
       "\n",
       "// Listen for the clearing of the current output cell\n",
       "var outputEl = gd.closest('.output');\n",
       "if (outputEl) {{\n",
       "    x.observe(outputEl, {childList: true});\n",
       "}}\n",
       "\n",
       "                        })                };            </script>        </div>"
      ]
     },
     "metadata": {},
     "output_type": "display_data"
    },
    {
     "name": "stdout",
     "output_type": "stream",
     "text": [
      "🎨 3D预测平面可视化说明：\n",
      "  • 蓝色点：训练数据\n",
      "  • 红色点：测试数据\n",
      "  • 绿色点：构成预测平面的点\n",
      "  • 绿色点形成的平面就是我们模型学到的预测平面\n",
      "  • 理想情况下，所有数据点都应该接近这个平面\n"
     ]
    }
   ],
   "source": [
    "# 创建包含预测平面的3D图\n",
    "def create_3d_with_predictions():\n",
    "    # 原始训练数据\n",
    "    plot_training_trace = go.Scatter3d(\n",
    "        x=x_train[:, 0].flatten(),\n",
    "        y=x_train[:, 1].flatten(),\n",
    "        z=y_train.flatten(),\n",
    "        name='训练数据',\n",
    "        mode='markers',\n",
    "        marker=dict(\n",
    "            size=8,\n",
    "            color='blue',\n",
    "            opacity=0.8\n",
    "        )\n",
    "    )\n",
    "    \n",
    "    # 测试数据\n",
    "    plot_test_trace = go.Scatter3d(\n",
    "        x=x_test[:, 0].flatten(),\n",
    "        y=x_test[:, 1].flatten(),\n",
    "        z=y_test.flatten(),\n",
    "        name='测试数据',\n",
    "        mode='markers',\n",
    "        marker=dict(\n",
    "            size=10,\n",
    "            color='red',\n",
    "            opacity=0.9\n",
    "        )\n",
    "    )\n",
    "    \n",
    "    # 预测平面\n",
    "    plot_predictions_trace = go.Scatter3d(\n",
    "        x=x_predictions.flatten(),\n",
    "        y=y_predictions.flatten(),\n",
    "        z=z_predictions.flatten(),\n",
    "        name='预测平面',\n",
    "        mode='markers',\n",
    "        marker=dict(\n",
    "            size=3,\n",
    "            color='green',\n",
    "            opacity=0.6\n",
    "        )\n",
    "    )\n",
    "    \n",
    "    # 图表布局\n",
    "    plot_layout = go.Layout(\n",
    "        title='🎯 多元线性回归：数据点与预测平面',\n",
    "        scene=dict(\n",
    "            xaxis=dict(title='经济指标 (GDP per Capita)'),\n",
    "            yaxis=dict(title='自由度 (Freedom)'),\n",
    "            zaxis=dict(title='幸福指数 (Happiness Score)')\n",
    "        ),\n",
    "        width=900,\n",
    "        height=700\n",
    "    )\n",
    "    \n",
    "    plot_data = [plot_training_trace, plot_test_trace, plot_predictions_trace]\n",
    "    fig = go.Figure(data=plot_data, layout=plot_layout)\n",
    "    \n",
    "    return fig\n",
    "\n",
    "# 显示带预测平面的3D图\n",
    "fig_with_plane = create_3d_with_predictions()\n",
    "pyo.iplot(fig_with_plane)\n",
    "\n",
    "print(\"🎨 3D预测平面可视化说明：\")\n",
    "print(\"  • 蓝色点：训练数据\")\n",
    "print(\"  • 红色点：测试数据\")\n",
    "print(\"  • 绿色点：构成预测平面的点\")\n",
    "print(\"  • 绿色点形成的平面就是我们模型学到的预测平面\")\n",
    "print(\"  • 理想情况下，所有数据点都应该接近这个平面\")"
   ]
  },
  {
   "cell_type": "markdown",
   "metadata": {},
   "source": [
    "## 📊 第七部分：模型性能评估"
   ]
  },
  {
   "cell_type": "code",
   "execution_count": 14,
   "metadata": {},
   "outputs": [
    {
     "name": "stdout",
     "output_type": "stream",
     "text": [
      "🎯 多元线性回归模型在测试集上的表现：\n",
      "==================================================\n",
      "  均方误差 (MSE): 0.3484\n",
      "  均方根误差 (RMSE): 0.5902\n",
      "  平均绝对误差 (MAE): 0.4874\n",
      "  决定系数 (R²): 0.7063\n",
      "\n",
      "📊 性能解读：\n",
      "  • R² = 0.7063 意味着模型能解释 70.6% 的数据变异\n",
      "  • 平均预测误差约为 0.487 个幸福指数单位\n",
      "  • RMSE = 0.590 表示预测的标准偏差\n",
      "\n",
      "💡 多元回归的优势：\n",
      "  • 考虑了多个影响因素，更全面\n",
      "  • 通常比单变量回归有更好的预测精度\n",
      "  • 能分析各因素的相对重要性\n"
     ]
    }
   ],
   "source": [
    "# 在测试集上进行预测\n",
    "test_predictions = linear_regression.predict(x_test)\n",
    "\n",
    "# 计算各种评估指标\n",
    "def calculate_metrics(y_true, y_pred):\n",
    "    mse = np.mean((y_true - y_pred) ** 2)\n",
    "    rmse = np.sqrt(mse)\n",
    "    mae = np.mean(np.abs(y_true - y_pred))\n",
    "    \n",
    "    # 计算R²（决定系数）\n",
    "    ss_res = np.sum((y_true - y_pred) ** 2)\n",
    "    ss_tot = np.sum((y_true - np.mean(y_true)) ** 2)\n",
    "    r2 = 1 - (ss_res / ss_tot)\n",
    "    \n",
    "    return mse, rmse, mae, r2\n",
    "\n",
    "mse, rmse, mae, r2 = calculate_metrics(y_test, test_predictions)\n",
    "\n",
    "print(\"🎯 多元线性回归模型在测试集上的表现：\")\n",
    "print(\"=\"*50)\n",
    "print(f\"  均方误差 (MSE): {mse:.4f}\")\n",
    "print(f\"  均方根误差 (RMSE): {rmse:.4f}\")\n",
    "print(f\"  平均绝对误差 (MAE): {mae:.4f}\")\n",
    "print(f\"  决定系数 (R²): {r2:.4f}\")\n",
    "\n",
    "print(f\"\\n📊 性能解读：\")\n",
    "print(f\"  • R² = {r2:.4f} 意味着模型能解释 {r2*100:.1f}% 的数据变异\")\n",
    "print(f\"  • 平均预测误差约为 {mae:.3f} 个幸福指数单位\")\n",
    "print(f\"  • RMSE = {rmse:.3f} 表示预测的标准偏差\")\n",
    "\n",
    "# 与单变量回归比较（如果有的话）\n",
    "print(f\"\\n💡 多元回归的优势：\")\n",
    "print(f\"  • 考虑了多个影响因素，更全面\")\n",
    "print(f\"  • 通常比单变量回归有更好的预测精度\")\n",
    "print(f\"  • 能分析各因素的相对重要性\")"
   ]
  },
  {
   "cell_type": "markdown",
   "metadata": {},
   "source": [
    "## 🔍 第八部分：模型参数深度解析"
   ]
  },
  {
   "cell_type": "code",
   "execution_count": 15,
   "metadata": {},
   "outputs": [
    {
     "name": "stdout",
     "output_type": "stream",
     "text": [
      "🧠 多元线性回归模型深度解析：\n",
      "============================================================\n",
      "📐 完整回归方程：\n",
      "幸福指数 = 5.3690 + 0.7763 × 经济指标 + 0.3491 × 自由度\n",
      "\n",
      "🔍 参数详细含义：\n",
      "  • 截距 (θ₀) = 5.3690\n",
      "    含义：当经济指标和自由度都为0时的基础幸福指数\n",
      "\n",
      "  • 经济系数 (θ₁) = 0.7763\n",
      "    含义：在自由度不变的情况下，经济指标每增加1个单位，\n",
      "          幸福指数平均增加 0.7763 个单位\n",
      "\n",
      "  • 自由度系数 (θ₂) = 0.3491\n",
      "    含义：在经济指标不变的情况下，自由度每增加1个单位，\n",
      "          幸福指数平均增加 0.3491 个单位\n",
      "\n",
      "⚖️ 因素重要性比较：\n",
      "  • 经济指标的影响力更大，约是自由度的 2.22 倍\n",
      "  • 这表明经济发展对幸福感的影响更为显著\n",
      "\n",
      "🌍 政策启示：\n",
      "  • 经济发展和社会自由都对幸福感有正面影响\n",
      "  • 政策制定应该平衡经济发展和社会自由\n",
      "  • 单纯追求经济增长而忽视自由度可能不是最优策略\n"
     ]
    }
   ],
   "source": [
    "# 详细分析模型参数\n",
    "intercept = theta[0][0]  # 截距\n",
    "coef_economy = theta[1][0]  # 经济系数\n",
    "coef_freedom = theta[2][0]  # 自由度系数\n",
    "\n",
    "print(\"🧠 多元线性回归模型深度解析：\")\n",
    "print(\"=\"*60)\n",
    "print(f\"📐 完整回归方程：\")\n",
    "print(f\"幸福指数 = {intercept:.4f} + {coef_economy:.4f} × 经济指标 + {coef_freedom:.4f} × 自由度\")\n",
    "print()\n",
    "\n",
    "print(f\"🔍 参数详细含义：\")\n",
    "print(f\"  • 截距 (θ₀) = {intercept:.4f}\")\n",
    "print(f\"    含义：当经济指标和自由度都为0时的基础幸福指数\")\n",
    "print()\n",
    "print(f\"  • 经济系数 (θ₁) = {coef_economy:.4f}\")\n",
    "print(f\"    含义：在自由度不变的情况下，经济指标每增加1个单位，\")\n",
    "print(f\"          幸福指数平均增加 {coef_economy:.4f} 个单位\")\n",
    "print()\n",
    "print(f\"  • 自由度系数 (θ₂) = {coef_freedom:.4f}\")\n",
    "print(f\"    含义：在经济指标不变的情况下，自由度每增加1个单位，\")\n",
    "print(f\"          幸福指数平均增加 {coef_freedom:.4f} 个单位\")\n",
    "\n",
    "print(f\"\\n⚖️ 因素重要性比较：\")\n",
    "if abs(coef_economy) > abs(coef_freedom):\n",
    "    ratio = abs(coef_economy) / abs(coef_freedom)\n",
    "    print(f\"  • 经济指标的影响力更大，约是自由度的 {ratio:.2f} 倍\")\n",
    "    print(f\"  • 这表明经济发展对幸福感的影响更为显著\")\n",
    "elif abs(coef_freedom) > abs(coef_economy):\n",
    "    ratio = abs(coef_freedom) / abs(coef_economy)\n",
    "    print(f\"  • 自由度的影响力更大，约是经济指标的 {ratio:.2f} 倍\")\n",
    "    print(f\"  • 这表明社会自由对幸福感的影响更为显著\")\n",
    "else:\n",
    "    print(f\"  • 经济指标和自由度的影响力相当\")\n",
    "\n",
    "print(f\"\\n🌍 政策启示：\")\n",
    "if coef_economy > 0 and coef_freedom > 0:\n",
    "    print(f\"  • 经济发展和社会自由都对幸福感有正面影响\")\n",
    "    print(f\"  • 政策制定应该平衡经济发展和社会自由\")\n",
    "    print(f\"  • 单纯追求经济增长而忽视自由度可能不是最优策略\")"
   ]
  },
  {
   "cell_type": "markdown",
   "metadata": {},
   "source": [
    "## 🔮 第九部分：实际预测示例"
   ]
  },
  {
   "cell_type": "code",
   "execution_count": 16,
   "metadata": {},
   "outputs": [
    {
     "name": "stdout",
     "output_type": "stream",
     "text": [
      "🔮 多元线性回归预测示例：\n",
      "==================================================\n",
      "场景           经济指标     自由度      预测幸福指数       解读                  \n",
      "----------------------------------------------------------------------\n",
      "高经济高自由       1.4      0.6      6.665        很幸福 😊               \n",
      "高经济低自由       1.4      0.2      6.526        很幸福 😊               \n",
      "低经济高自由       0.3      0.6      5.811        比较幸福 🙂              \n",
      "低经济低自由       0.3      0.2      5.672        比较幸福 🙂              \n",
      "中等经济中等自由     0.8      0.4      6.130        比较幸福 🙂              \n",
      "\n",
      "💡 观察与思考：\n",
      "  • 比较不同场景的预测结果\n",
      "  • 思考经济和自由度如何共同影响幸福感\n",
      "  • 哪种组合能带来最高的幸福指数？\n"
     ]
    }
   ],
   "source": [
    "# 创建一些有趣的预测场景\n",
    "print(\"🔮 多元线性回归预测示例：\")\n",
    "print(\"=\"*50)\n",
    "\n",
    "# 定义一些假设的国家场景\n",
    "scenarios = [\n",
    "    {\"name\": \"高经济高自由\", \"economy\": 1.4, \"freedom\": 0.6},\n",
    "    {\"name\": \"高经济低自由\", \"economy\": 1.4, \"freedom\": 0.2},\n",
    "    {\"name\": \"低经济高自由\", \"economy\": 0.3, \"freedom\": 0.6},\n",
    "    {\"name\": \"低经济低自由\", \"economy\": 0.3, \"freedom\": 0.2},\n",
    "    {\"name\": \"中等经济中等自由\", \"economy\": 0.8, \"freedom\": 0.4},\n",
    "]\n",
    "\n",
    "print(f\"{'场景':<12} {'经济指标':<8} {'自由度':<8} {'预测幸福指数':<12} {'解读':<20}\")\n",
    "print(\"-\" * 70)\n",
    "\n",
    "for scenario in scenarios:\n",
    "    # 进行预测\n",
    "    features = np.array([[scenario['economy'], scenario['freedom']]])\n",
    "    prediction = linear_regression.predict(features)[0][0]\n",
    "    \n",
    "    # 生成解读\n",
    "    if prediction > 6.5:\n",
    "        interpretation = \"很幸福 😊\"\n",
    "    elif prediction > 5.5:\n",
    "        interpretation = \"比较幸福 🙂\"\n",
    "    elif prediction > 4.5:\n",
    "        interpretation = \"一般幸福 😐\"\n",
    "    else:\n",
    "        interpretation = \"不太幸福 😔\"\n",
    "    \n",
    "    print(f\"{scenario['name']:<12} {scenario['economy']:<8.1f} {scenario['freedom']:<8.1f} {prediction:<12.3f} {interpretation:<20}\")\n",
    "\n",
    "print(f\"\\n💡 观察与思考：\")\n",
    "print(f\"  • 比较不同场景的预测结果\")\n",
    "print(f\"  • 思考经济和自由度如何共同影响幸福感\")\n",
    "print(f\"  • 哪种组合能带来最高的幸福指数？\")"
   ]
  },
  {
   "cell_type": "markdown",
   "metadata": {},
   "source": [
    "## 📈 第十部分：预测效果详细分析"
   ]
  },
  {
   "cell_type": "code",
   "execution_count": 18,
   "metadata": {},
   "outputs": [
    {
     "data": {
      "image/png": "[encoded data removed]",
      "text/plain": [
       "<Figure size 1500x1000 with 6 Axes>"
      ]
     },
     "metadata": {},
     "output_type": "display_data"
    },
    {
     "name": "stdout",
     "output_type": "stream",
     "text": [
      "📊 综合分析图表解读：\n",
      "  • 左上：预测vs实际，点越接近红线说明预测越准确\n",
      "  • 中上：残差分析，残差应该随机分布在0附近\n",
      "  • 右上：训练过程，损失持续下降说明模型在学习\n",
      "  • 左下：特征重要性，显示哪个特征影响更大\n",
      "  • 中下：残差分布，应该接近正态分布\n",
      "  • 右下：性能指标汇总，R²越接近1越好\n"
     ]
    }
   ],
   "source": [
    "# 创建详细的预测效果分析图\n",
    "plt.figure(figsize=(15, 10))\n",
    "\n",
    "# 第一个子图：预测vs实际值\n",
    "plt.subplot(2, 3, 1)\n",
    "plt.scatter(y_test, test_predictions, alpha=0.7, color='purple', s=60)\n",
    "# 添加理想预测线（y=x）\n",
    "min_val = min(y_test.min(), test_predictions.min())\n",
    "max_val = max(y_test.max(), test_predictions.max())\n",
    "plt.plot([min_val, max_val], [min_val, max_val], 'r--', linewidth=2, label='Ideal Prediction Line')\n",
    "plt.xlabel('Actual Happiness Index')\n",
    "plt.ylabel('Predicted Happiness Index')\n",
    "plt.title(f'Prediction vs Actual\\n(R² = {r2:.3f})')\n",
    "plt.legend()\n",
    "plt.grid(True, alpha=0.3)\n",
    "\n",
    "# 第二个子图：残差分析\n",
    "plt.subplot(2, 3, 2)\n",
    "residuals = y_test - test_predictions\n",
    "plt.scatter(test_predictions, residuals, alpha=0.7, color='orange', s=60)\n",
    "plt.axhline(y=0, color='red', linestyle='--', linewidth=2)\n",
    "plt.xlabel('Predicted Values')\n",
    "plt.ylabel('Residuals (Actual - Predicted)')\n",
    "plt.title('Residual Analysis')\n",
    "plt.grid(True, alpha=0.3)\n",
    "\n",
    "# 第三个子图：训练历史\n",
    "plt.subplot(2, 3, 3)\n",
    "plt.plot(cost_history, 'b-', linewidth=2)\n",
    "plt.xlabel('Iterations')\n",
    "plt.ylabel('Cost Value')\n",
    "plt.title('Training Cost History')\n",
    "plt.grid(True, alpha=0.3)\n",
    "\n",
    "# 第四个子图：特征重要性\n",
    "plt.subplot(2, 3, 4)\n",
    "features = ['Economic Indicator', 'Freedom Level']\n",
    "importance = [abs(coef_economy), abs(coef_freedom)]\n",
    "colors = ['skyblue', 'lightcoral']\n",
    "bars = plt.bar(features, importance, color=colors, alpha=0.7)\n",
    "plt.ylabel('Coefficient Absolute Value')\n",
    "plt.title('Feature Importance')\n",
    "for bar, imp in zip(bars, importance):\n",
    "    plt.text(bar.get_x() + bar.get_width()/2, bar.get_height() + 0.01,\n",
    "             f'{imp:.3f}', ha='center', va='bottom')\n",
    "\n",
    "# 第五个子图：误差分布\n",
    "plt.subplot(2, 3, 5)\n",
    "plt.hist(residuals.flatten(), bins=15, alpha=0.7, color='green', edgecolor='black')\n",
    "plt.xlabel('Residual Value')\n",
    "plt.ylabel('Frequency')\n",
    "plt.title('Residual Distribution Histogram')\n",
    "plt.axvline(x=0, color='red', linestyle='--', linewidth=2)\n",
    "\n",
    "# 第六个子图：模型性能指标\n",
    "plt.subplot(2, 3, 6)\n",
    "metrics = ['MSE', 'RMSE', 'MAE', 'R²']\n",
    "values = [mse, rmse, mae, r2]\n",
    "colors = ['red', 'orange', 'yellow', 'green']\n",
    "bars = plt.bar(metrics, values, color=colors, alpha=0.7)\n",
    "plt.ylabel('Metric Value')\n",
    "plt.title('Model Performance Metrics')\n",
    "plt.xticks(rotation=45)\n",
    "for bar, val in zip(bars, values):\n",
    "    plt.text(bar.get_x() + bar.get_width()/2, bar.get_height() + 0.01,\n",
    "             f'{val:.3f}', ha='center', va='bottom', fontsize=9)\n",
    "\n",
    "plt.tight_layout()\n",
    "plt.show()\n",
    "\n",
    "\n",
    "print(\"📊 综合分析图表解读：\")\n",
    "print(\"  • 左上：预测vs实际，点越接近红线说明预测越准确\")\n",
    "print(\"  • 中上：残差分析，残差应该随机分布在0附近\")\n",
    "print(\"  • 右上：训练过程，损失持续下降说明模型在学习\")\n",
    "print(\"  • 左下：特征重要性，显示哪个特征影响更大\")\n",
    "print(\"  • 中下：残差分布，应该接近正态分布\")\n",
    "print(\"  • 右下：性能指标汇总，R²越接近1越好\")"
   ]
  },
  {
   "cell_type": "markdown",
   "metadata": {},
   "source": [
    "## 🎊 总结与进阶思考\n",
    "\n",
    "### 🎯 我们学到了什么：\n",
    "\n",
    "#### 1. **多元线性回归核心概念**\n",
    "- 从单变量扩展到多变量\n",
    "- 学习拟合平面而不是直线\n",
    "- 理解多个特征如何共同影响目标变量\n",
    "\n",
    "#### 2. **3D可视化技能**\n",
    "- 使用Plotly创建交互式3D图表\n",
    "- 可视化多维数据关系\n",
    "- 展示预测平面与实际数据的拟合效果\n",
    "\n",
    "#### 3. **模型解释能力**\n",
    "- 理解每个系数的实际含义\n",
    "- 分析特征的相对重要性\n",
    "- 从数学模型中提取现实洞察\n",
    "\n",
    "### 💡 关键发现：\n",
    "\n",
    "1. **经济与自由的协同效应**\n",
    "   - 经济发展和社会自由都对幸福感有正面影响\n",
    "   - 两者结合比单独作用效果更好\n",
    "   - 政策制定需要平衡考虑\n",
    "\n",
    "2. **模型性能提升**\n",
    "   - 多元回归通常比单变量回归更准确\n",
    "   - R²值显示了模型的解释能力\n",
    "   - 残差分析帮助我们理解模型的局限性\n",
    "\n",
    "### 🤔 深入思考：\n",
    "\n",
    "#### **多元回归的优势**\n",
    "- ✅ 更全面：考虑多个影响因素\n",
    "- ✅ 更准确：通常有更好的预测性能\n",
    "- ✅ 更深入：能分析因素间的相对重要性\n",
    "\n",
    "#### **需要注意的问题**\n",
    "- ⚠️ **多重共线性**：特征之间可能相关\n",
    "- ⚠️ **过拟合风险**：特征太多可能导致过拟合\n",
    "- ⚠️ **解释复杂性**：模型变得更难理解\n",
    "\n",
    "### 🚀 进阶学习方向：\n",
    "\n",
    "#### 1. **特征工程**\n",
    "- 特征选择：如何选择最重要的特征？\n",
    "- 特征变换：对数变换、标准化等\n",
    "- 特征交互：考虑特征之间的交互作用\n",
    "\n",
    "#### 2. **正则化技术**\n",
    "- Ridge回归：L2正则化\n",
    "- Lasso回归：L1正则化\n",
    "- Elastic Net：结合L1和L2\n",
    "\n",
    "#### 3. **模型诊断**\n",
    "- 多重共线性检测\n",
    "- 异常值识别\n",
    "- 模型假设验证\n",
    "\n",
    "#### 4. **高级回归技术**\n",
    "- 多项式回归\n",
    "- 逻辑回归\n",
    "- 非线性回归\n",
    "\n",
    "### 🌟 实际应用建议：\n",
    "\n",
    "1. **数据收集**：确保特征质量和相关性\n",
    "2. **特征选择**：不是特征越多越好\n",
    "3. **模型验证**：使用交叉验证等技术\n",
    "4. **结果解释**：将数学结果转化为业务洞察\n",
    "\n",
    "---\n",
    "\n",
    "**🎉 恭喜你完成了多元线性回归教程！**\n",
    "\n",
    "你现在已经掌握了：\n",
    "- ✅ 单变量线性回归（第1章）\n",
    "- ✅ 单变量线性回归实战（第2章）\n",
    "- ✅ 多元线性回归理论与实践（第3章）\n",
    "\n",
    "下一步，你可以探索更高级的机器学习算法，如多项式回归、逻辑回归，或者深入学习特征工程和模型优化技术！\n",
    "\n",
    "**记住：机器学习的核心是从数据中发现规律，然后用这些规律解决实际问题！** 🚀"
   ]
  }
 ],
 "metadata": {
  "kernelspec": {
   "display_name": "Python 3",
   "language": "python",
   "name": "python3"
  },
  "language_info": {
   "codemirror_mode": {
    "name": "ipython",
    "version": 3
   },
   "file_extension": ".py",
   "mimetype": "text/x-python",
   "name": "python",
   "nbconvert_exporter": "python",
   "pygments_lexer": "ipython3",
   "version": "3.10.12"
  }
 },
 "nbformat": 4,
 "nbformat_minor": 4
}
